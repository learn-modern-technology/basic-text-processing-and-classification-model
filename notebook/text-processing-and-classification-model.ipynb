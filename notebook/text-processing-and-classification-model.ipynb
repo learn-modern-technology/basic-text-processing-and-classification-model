{
 "cells": [
  {
   "cell_type": "markdown",
   "id": "57e451f3",
   "metadata": {},
   "source": [
    "# Let us understand the basic text preprocessing and build a classification model"
   ]
  },
  {
   "cell_type": "markdown",
   "id": "c4950e02",
   "metadata": {},
   "source": [
    "### Data Description \n",
    "\n",
    "- The dataset contains more than a thousand reviews about an application openly available to the public. The data includes reviews and sentiment, i.e., is the review positive or negative with various other variables.  "
   ]
  },
  {
   "cell_type": "code",
   "execution_count": 1,
   "id": "df9ef15c",
   "metadata": {},
   "outputs": [],
   "source": [
    "import pandas as pd\n",
    "import numpy as np\n",
    "import seaborn as sns\n",
    "import matplotlib.pyplot as plt\n",
    "%matplotlib inline"
   ]
  },
  {
   "cell_type": "code",
   "execution_count": 2,
   "id": "5f1c996c",
   "metadata": {},
   "outputs": [],
   "source": [
    "import pickle\n",
    "from collections import Counter\n",
    "\n",
    "# Libraries for NLP\n",
    "import nltk\n",
    "from nltk.corpus import stopwords\n",
    "from nltk.stem import PorterStemmer\n",
    "from nltk.stem import LancasterStemmer\n",
    "from nltk.stem import WordNetLemmatizer\n",
    "from nltk.tokenize import sent_tokenize, word_tokenize, RegexpTokenizer\n",
    "\n",
    "\n",
    "from sklearn.feature_extraction.text import TfidfVectorizer\n",
    "from sklearn.feature_extraction.text import CountVectorizer"
   ]
  },
  {
   "cell_type": "code",
   "execution_count": 3,
   "id": "d1d71247",
   "metadata": {},
   "outputs": [],
   "source": [
    "# Libraries for ML Algorithms\n",
    "from sklearn.linear_model import LogisticRegression\n",
    "from sklearn.ensemble import RandomForestClassifier\n",
    "from sklearn.tree import DecisionTreeClassifier\n",
    "from sklearn.discriminant_analysis import LinearDiscriminantAnalysis\n",
    "from sklearn.model_selection import GridSearchCV, train_test_split\n",
    "from sklearn import metrics"
   ]
  },
  {
   "cell_type": "code",
   "execution_count": 4,
   "id": "ec854610",
   "metadata": {},
   "outputs": [],
   "source": [
    "# Get multiple outputs in the same cell\n",
    "from IPython.core.interactiveshell import InteractiveShell\n",
    "InteractiveShell.ast_node_interactivity = \"all\"\n",
    "\n",
    "# To supress future warnings\n",
    "import warnings\n",
    "warnings.filterwarnings('ignore')\n",
    "warnings.filterwarnings(action='ignore', category=DeprecationWarning)"
   ]
  },
  {
   "cell_type": "code",
   "execution_count": 5,
   "id": "bf522535",
   "metadata": {},
   "outputs": [],
   "source": [
    "# Using display setting\n",
    "pd.set_option('display.max_rows', 500)\n",
    "pd.set_option('display.max_columns', 500)\n",
    "pd.set_option('display.width', 1000)\n",
    "pd.set_option('display.expand_frame_repr', False)\n",
    "pd.set_option('display.max_colwidth',2000)\n",
    "pd.options.display.float_format='{:.2f}'.format"
   ]
  },
  {
   "cell_type": "code",
   "execution_count": 6,
   "id": "c880016b",
   "metadata": {},
   "outputs": [],
   "source": [
    "data_df = pd.read_excel('../input/Canva_reviews.xlsx')"
   ]
  },
  {
   "cell_type": "code",
   "execution_count": 7,
   "id": "c6587969",
   "metadata": {
    "scrolled": false
   },
   "outputs": [
    {
     "data": {
      "text/html": [
       "<div>\n",
       "<style scoped>\n",
       "    .dataframe tbody tr th:only-of-type {\n",
       "        vertical-align: middle;\n",
       "    }\n",
       "\n",
       "    .dataframe tbody tr th {\n",
       "        vertical-align: top;\n",
       "    }\n",
       "\n",
       "    .dataframe thead th {\n",
       "        text-align: right;\n",
       "    }\n",
       "</style>\n",
       "<table border=\"1\" class=\"dataframe\">\n",
       "  <thead>\n",
       "    <tr style=\"text-align: right;\">\n",
       "      <th></th>\n",
       "      <th>reviewId</th>\n",
       "      <th>userName</th>\n",
       "      <th>userImage</th>\n",
       "      <th>review</th>\n",
       "      <th>score</th>\n",
       "      <th>thumbsUpCount</th>\n",
       "      <th>reviewCreatedVersion</th>\n",
       "      <th>at</th>\n",
       "      <th>replyContent</th>\n",
       "      <th>repliedAt</th>\n",
       "      <th>Sentiment</th>\n",
       "      <th>Sub Category</th>\n",
       "      <th>Sub Category_test</th>\n",
       "    </tr>\n",
       "  </thead>\n",
       "  <tbody>\n",
       "    <tr>\n",
       "      <th>0</th>\n",
       "      <td>gp:AOqpTOFxf3fttcT5DSvFIn9KPp5FErgH9yC533FmoxvwtULxu2YBbXfmhq6970jW2OET7OjXuTNPbUz82cWbAtk</td>\n",
       "      <td>Donna Caritero</td>\n",
       "      <td>https://play-lh.googleusercontent.com/a-/AOh14Gg4pUoP3Bc6Lgata4x9jnR4bwKnT_eyLAMWaHs7fg</td>\n",
       "      <td>Overall it's really an amazing app. I've been using this for the past 5 years however I only have one issue though and I wanted this to get address since I think this issue had lasted for how many years? The texts were blurred and when you zoom it out it's pixelated. I thought this issue only occurs on mobile apps however it was also present on the website. Please fix this. I still remember the time when I can export high definition texts and I love that experience. Thank you!</td>\n",
       "      <td>4</td>\n",
       "      <td>528</td>\n",
       "      <td>2.116.0</td>\n",
       "      <td>2021-06-17 07:18:54</td>\n",
       "      <td>Hi Donna. We are sorry that your text or design turned out pixelated or poor quality. Check this link for possible reasons: https://bit.ly/2Pxkphr. For other concerns, report it at canva.me/android. Regards. - Ahn\\n</td>\n",
       "      <td>2021-06-19 21:24:32</td>\n",
       "      <td>Negative</td>\n",
       "      <td>NaN</td>\n",
       "      <td>bug_picture_quality</td>\n",
       "    </tr>\n",
       "    <tr>\n",
       "      <th>1</th>\n",
       "      <td>gp:AOqpTOEq6rNIWLnPV4KFTctWvm0mpGEQljtD6mvy1H-F1hD4TQaLg-fgsVyTLNaHOWFpVUEtAgJ-9ynp_vKWE3Y</td>\n",
       "      <td>Soumi Mukhopadhyay</td>\n",
       "      <td>https://play-lh.googleusercontent.com/a-/AOh14Ghv6nzkP8W4xDBH0PfDbiDNSxlKbWGh_6s6U3avzg</td>\n",
       "      <td>Hey! Yes I gave a 5 star rating... coz I believe it deserves it! I mostly use the desktop version and I am seriously so satisfied with this app in both android and desktop version. I just came here to thank the developers for this beautiful app and its facilities. I literally find almost everything that I need for and the best part is even without the premium feature it provides us with a lot many facilities. I love it! Thank you..! ❤</td>\n",
       "      <td>5</td>\n",
       "      <td>351</td>\n",
       "      <td>2.116.0</td>\n",
       "      <td>2021-06-17 19:18:28</td>\n",
       "      <td>NaN</td>\n",
       "      <td>NaT</td>\n",
       "      <td>Positive</td>\n",
       "      <td>extremely_happy</td>\n",
       "      <td>NaN</td>\n",
       "    </tr>\n",
       "    <tr>\n",
       "      <th>2</th>\n",
       "      <td>gp:AOqpTOE86hSyPRHZgYt28Uk5zGe4FZGb1hkmtFDiYJ2cGNaFzlL9r2gGkuuAVsO2Wf4kJdx8hIo4rgo9G3fBzMg</td>\n",
       "      <td>Theknown _unknown</td>\n",
       "      <td>https://play-lh.googleusercontent.com/a-/AOh14Gj__jHxXtCA8Q8vSwg1YM4df4OBUfySLJezPRJi</td>\n",
       "      <td>Canva used to be a good app! But recently I've been facing issues in saving my files. When I want my files to be saved in '.png' format, it gets saved in .jpg format! Moreover when I want my files to be saved it gets stuck at the downloading screen (where your so called magic does not happen) For now you'll be getting 1 stars from me. I hope you will fix the app soon! Thank you .</td>\n",
       "      <td>1</td>\n",
       "      <td>160</td>\n",
       "      <td>2.116.0</td>\n",
       "      <td>2021-06-23 19:13:28</td>\n",
       "      <td>Hi there. We're sorry to hear that you are having trouble with the app. We will make sure to take note of this for us to improve the app. For us to check, kindly send us a screenshot or a recording of the issue and send it through canva.me/android. Kindly keep an eye to our future updates with performance improvements. Thank you -Gel</td>\n",
       "      <td>2021-06-26 20:20:56</td>\n",
       "      <td>Negative</td>\n",
       "      <td>saving_downloading_issue</td>\n",
       "      <td>bug_saving_files</td>\n",
       "    </tr>\n",
       "  </tbody>\n",
       "</table>\n",
       "</div>"
      ],
      "text/plain": [
       "                                                                                     reviewId            userName                                                                                userImage                                                                                                                                                                                                                                                                                                                                                                                                                                                                                             review  score  thumbsUpCount reviewCreatedVersion                  at                                                                                                                                                                                                                                                                                                                                     replyContent           repliedAt Sentiment              Sub Category    Sub Category_test\n",
       "0  gp:AOqpTOFxf3fttcT5DSvFIn9KPp5FErgH9yC533FmoxvwtULxu2YBbXfmhq6970jW2OET7OjXuTNPbUz82cWbAtk      Donna Caritero  https://play-lh.googleusercontent.com/a-/AOh14Gg4pUoP3Bc6Lgata4x9jnR4bwKnT_eyLAMWaHs7fg  Overall it's really an amazing app. I've been using this for the past 5 years however I only have one issue though and I wanted this to get address since I think this issue had lasted for how many years? The texts were blurred and when you zoom it out it's pixelated. I thought this issue only occurs on mobile apps however it was also present on the website. Please fix this. I still remember the time when I can export high definition texts and I love that experience. Thank you!      4            528              2.116.0 2021-06-17 07:18:54                                                                                                                          Hi Donna. We are sorry that your text or design turned out pixelated or poor quality. Check this link for possible reasons: https://bit.ly/2Pxkphr. For other concerns, report it at canva.me/android. Regards. - Ahn\\n 2021-06-19 21:24:32  Negative                       NaN  bug_picture_quality\n",
       "1  gp:AOqpTOEq6rNIWLnPV4KFTctWvm0mpGEQljtD6mvy1H-F1hD4TQaLg-fgsVyTLNaHOWFpVUEtAgJ-9ynp_vKWE3Y  Soumi Mukhopadhyay  https://play-lh.googleusercontent.com/a-/AOh14Ghv6nzkP8W4xDBH0PfDbiDNSxlKbWGh_6s6U3avzg                                             Hey! Yes I gave a 5 star rating... coz I believe it deserves it! I mostly use the desktop version and I am seriously so satisfied with this app in both android and desktop version. I just came here to thank the developers for this beautiful app and its facilities. I literally find almost everything that I need for and the best part is even without the premium feature it provides us with a lot many facilities. I love it! Thank you..! ❤      5            351              2.116.0 2021-06-17 19:18:28                                                                                                                                                                                                                                                                                                                                              NaN                 NaT  Positive           extremely_happy                  NaN\n",
       "2  gp:AOqpTOE86hSyPRHZgYt28Uk5zGe4FZGb1hkmtFDiYJ2cGNaFzlL9r2gGkuuAVsO2Wf4kJdx8hIo4rgo9G3fBzMg   Theknown _unknown    https://play-lh.googleusercontent.com/a-/AOh14Gj__jHxXtCA8Q8vSwg1YM4df4OBUfySLJezPRJi                                                                                                     Canva used to be a good app! But recently I've been facing issues in saving my files. When I want my files to be saved in '.png' format, it gets saved in .jpg format! Moreover when I want my files to be saved it gets stuck at the downloading screen (where your so called magic does not happen) For now you'll be getting 1 stars from me. I hope you will fix the app soon! Thank you .      1            160              2.116.0 2021-06-23 19:13:28  Hi there. We're sorry to hear that you are having trouble with the app. We will make sure to take note of this for us to improve the app. For us to check, kindly send us a screenshot or a recording of the issue and send it through canva.me/android. Kindly keep an eye to our future updates with performance improvements. Thank you -Gel 2021-06-26 20:20:56  Negative  saving_downloading_issue     bug_saving_files"
      ]
     },
     "execution_count": 7,
     "metadata": {},
     "output_type": "execute_result"
    }
   ],
   "source": [
    "data_df.head(3)"
   ]
  },
  {
   "cell_type": "code",
   "execution_count": 8,
   "id": "79ebebc3",
   "metadata": {},
   "outputs": [
    {
     "data": {
      "text/html": [
       "<div>\n",
       "<style scoped>\n",
       "    .dataframe tbody tr th:only-of-type {\n",
       "        vertical-align: middle;\n",
       "    }\n",
       "\n",
       "    .dataframe tbody tr th {\n",
       "        vertical-align: top;\n",
       "    }\n",
       "\n",
       "    .dataframe thead th {\n",
       "        text-align: right;\n",
       "    }\n",
       "</style>\n",
       "<table border=\"1\" class=\"dataframe\">\n",
       "  <thead>\n",
       "    <tr style=\"text-align: right;\">\n",
       "      <th></th>\n",
       "      <th>reviewId</th>\n",
       "      <th>userName</th>\n",
       "      <th>userImage</th>\n",
       "      <th>review</th>\n",
       "      <th>score</th>\n",
       "      <th>thumbsUpCount</th>\n",
       "      <th>reviewCreatedVersion</th>\n",
       "      <th>at</th>\n",
       "      <th>replyContent</th>\n",
       "      <th>repliedAt</th>\n",
       "      <th>Sentiment</th>\n",
       "      <th>Sub Category</th>\n",
       "      <th>Sub Category_test</th>\n",
       "    </tr>\n",
       "  </thead>\n",
       "  <tbody>\n",
       "    <tr>\n",
       "      <th>1497</th>\n",
       "      <td>gp:AOqpTOFMqEqa_kpp29Q8wjcBmKUCAvOQGQx4KZQ8b83CHrEAEV3vJJbF_LPT36LfNgfobcO2g5BUVa2IopBkUns</td>\n",
       "      <td>GK Gaming</td>\n",
       "      <td>https://play-lh.googleusercontent.com/a-/AOh14GjWueIL9EMtuj-3KbUGYfQI0tyxqGYuEtoJ4-BXYw</td>\n",
       "      <td>Too much lag. Always stuck on starting page. Worst app. Don't download</td>\n",
       "      <td>1</td>\n",
       "      <td>0</td>\n",
       "      <td>2.118.0</td>\n",
       "      <td>2021-07-06 03:34:38</td>\n",
       "      <td>Hello there, sorry if it is frustrating and just get frozen. Please force close the app and then restart it. You may also close apps that are not being used. Also, we recommend that you have it updated to get its full features. If error persists, let us know at canva.me/android. - Cynch</td>\n",
       "      <td>2021-07-19 01:19:18</td>\n",
       "      <td>Negative</td>\n",
       "      <td>others</td>\n",
       "      <td>NaN</td>\n",
       "    </tr>\n",
       "    <tr>\n",
       "      <th>1498</th>\n",
       "      <td>gp:AOqpTOGY4z3pUxeiqGzn2ad3Noxqlbm-9DZ3ksHqD1_CgjW_Emf7YaTIQwpj1A97BviNU8_GXSnUehpb5tVmn1s</td>\n",
       "      <td>1203_Vani Sharma</td>\n",
       "      <td>https://play-lh.googleusercontent.com/a-/AOh14Gi28Chszr86r8qzQuqcaHcwk2Iy20y7xBBOzViVHRE</td>\n",
       "      <td>Nice app for all college work. So many features and templates to work with. Loved it❤️</td>\n",
       "      <td>5</td>\n",
       "      <td>0</td>\n",
       "      <td>2.123.0</td>\n",
       "      <td>2021-08-07 18:47:15</td>\n",
       "      <td>NaN</td>\n",
       "      <td>NaT</td>\n",
       "      <td>Positive</td>\n",
       "      <td>extremely_happy</td>\n",
       "      <td>NaN</td>\n",
       "    </tr>\n",
       "    <tr>\n",
       "      <th>1499</th>\n",
       "      <td>gp:AOqpTOFVGZ0MXyR-Gv_d2cYf2KD709Hwple_u7OZE4yiKaAzHTquS_hu9Rvz_MHQkoIB-n8AUgezvqFH5cpMbiE</td>\n",
       "      <td>MeLLy EcK</td>\n",
       "      <td>https://play-lh.googleusercontent.com/a-/AOh14GhHSlPAWMQotXJVqKQECfuHSzofBthAzZcYl1ZqRwg</td>\n",
       "      <td>I am a teacher and this was so much for this school year! Love this.</td>\n",
       "      <td>5</td>\n",
       "      <td>0</td>\n",
       "      <td>2.117.0</td>\n",
       "      <td>2021-06-28 03:40:57</td>\n",
       "      <td>NaN</td>\n",
       "      <td>NaT</td>\n",
       "      <td>Positive</td>\n",
       "      <td>extremely_happy</td>\n",
       "      <td>NaN</td>\n",
       "    </tr>\n",
       "  </tbody>\n",
       "</table>\n",
       "</div>"
      ],
      "text/plain": [
       "                                                                                        reviewId          userName                                                                                 userImage                                                                                  review  score  thumbsUpCount reviewCreatedVersion                  at                                                                                                                                                                                                                                                                                     replyContent           repliedAt Sentiment     Sub Category Sub Category_test\n",
       "1497  gp:AOqpTOFMqEqa_kpp29Q8wjcBmKUCAvOQGQx4KZQ8b83CHrEAEV3vJJbF_LPT36LfNgfobcO2g5BUVa2IopBkUns         GK Gaming   https://play-lh.googleusercontent.com/a-/AOh14GjWueIL9EMtuj-3KbUGYfQI0tyxqGYuEtoJ4-BXYw                  Too much lag. Always stuck on starting page. Worst app. Don't download      1              0              2.118.0 2021-07-06 03:34:38  Hello there, sorry if it is frustrating and just get frozen. Please force close the app and then restart it. You may also close apps that are not being used. Also, we recommend that you have it updated to get its full features. If error persists, let us know at canva.me/android. - Cynch 2021-07-19 01:19:18  Negative           others               NaN\n",
       "1498  gp:AOqpTOGY4z3pUxeiqGzn2ad3Noxqlbm-9DZ3ksHqD1_CgjW_Emf7YaTIQwpj1A97BviNU8_GXSnUehpb5tVmn1s  1203_Vani Sharma  https://play-lh.googleusercontent.com/a-/AOh14Gi28Chszr86r8qzQuqcaHcwk2Iy20y7xBBOzViVHRE  Nice app for all college work. So many features and templates to work with. Loved it❤️      5              0              2.123.0 2021-08-07 18:47:15                                                                                                                                                                                                                                                                                              NaN                 NaT  Positive  extremely_happy               NaN\n",
       "1499  gp:AOqpTOFVGZ0MXyR-Gv_d2cYf2KD709Hwple_u7OZE4yiKaAzHTquS_hu9Rvz_MHQkoIB-n8AUgezvqFH5cpMbiE         MeLLy EcK  https://play-lh.googleusercontent.com/a-/AOh14GhHSlPAWMQotXJVqKQECfuHSzofBthAzZcYl1ZqRwg                    I am a teacher and this was so much for this school year! Love this.      5              0              2.117.0 2021-06-28 03:40:57                                                                                                                                                                                                                                                                                              NaN                 NaT  Positive  extremely_happy               NaN"
      ]
     },
     "execution_count": 8,
     "metadata": {},
     "output_type": "execute_result"
    }
   ],
   "source": [
    "data_df.tail(3)"
   ]
  },
  {
   "cell_type": "code",
   "execution_count": 9,
   "id": "6a34272e",
   "metadata": {},
   "outputs": [
    {
     "data": {
      "text/plain": [
       "(1500, 13)"
      ]
     },
     "execution_count": 9,
     "metadata": {},
     "output_type": "execute_result"
    }
   ],
   "source": [
    "data_df.shape"
   ]
  },
  {
   "cell_type": "code",
   "execution_count": 10,
   "id": "97440c6d",
   "metadata": {},
   "outputs": [
    {
     "name": "stdout",
     "output_type": "stream",
     "text": [
      "<class 'pandas.core.frame.DataFrame'>\n",
      "RangeIndex: 1500 entries, 0 to 1499\n",
      "Data columns (total 13 columns):\n",
      " #   Column                Non-Null Count  Dtype         \n",
      "---  ------                --------------  -----         \n",
      " 0   reviewId              1500 non-null   object        \n",
      " 1   userName              1500 non-null   object        \n",
      " 2   userImage             1500 non-null   object        \n",
      " 3   review                1500 non-null   object        \n",
      " 4   score                 1500 non-null   int64         \n",
      " 5   thumbsUpCount         1500 non-null   int64         \n",
      " 6   reviewCreatedVersion  1500 non-null   object        \n",
      " 7   at                    1500 non-null   datetime64[ns]\n",
      " 8   replyContent          523 non-null    object        \n",
      " 9   repliedAt             523 non-null    datetime64[ns]\n",
      " 10  Sentiment             1500 non-null   object        \n",
      " 11  Sub Category          1499 non-null   object        \n",
      " 12  Sub Category_test     23 non-null     object        \n",
      "dtypes: datetime64[ns](2), int64(2), object(9)\n",
      "memory usage: 152.5+ KB\n"
     ]
    }
   ],
   "source": [
    "data_df.info()"
   ]
  },
  {
   "cell_type": "code",
   "execution_count": 11,
   "id": "1c98ea48",
   "metadata": {},
   "outputs": [
    {
     "data": {
      "text/plain": [
       "'Unable to save my work. Nothing works :('"
      ]
     },
     "execution_count": 11,
     "metadata": {},
     "output_type": "execute_result"
    },
    {
     "data": {
      "text/plain": [
       "'Negative'"
      ]
     },
     "execution_count": 11,
     "metadata": {},
     "output_type": "execute_result"
    }
   ],
   "source": [
    "data_df.iloc[13,3]\n",
    "data_df.iloc[13,10]"
   ]
  },
  {
   "cell_type": "code",
   "execution_count": 12,
   "id": "25aacafe",
   "metadata": {},
   "outputs": [
    {
     "data": {
      "text/plain": [
       "'Absolutely amazing and a lifesaver for teachers.'"
      ]
     },
     "execution_count": 12,
     "metadata": {},
     "output_type": "execute_result"
    },
    {
     "data": {
      "text/plain": [
       "'Positive'"
      ]
     },
     "execution_count": 12,
     "metadata": {},
     "output_type": "execute_result"
    }
   ],
   "source": [
    "data_df.iloc[1495,3]\n",
    "data_df.iloc[1495,10]"
   ]
  },
  {
   "cell_type": "markdown",
   "id": "9c2b45ed",
   "metadata": {},
   "source": [
    "### Plotting the Sentiment data"
   ]
  },
  {
   "cell_type": "code",
   "execution_count": 13,
   "id": "f3c50496",
   "metadata": {},
   "outputs": [
    {
     "data": {
      "image/png": "[encoded data removed]",
      "text/plain": [
       "<Figure size 640x480 with 1 Axes>"
      ]
     },
     "metadata": {},
     "output_type": "display_data"
    }
   ],
   "source": [
    "sns.countplot(x=data_df['Sentiment'])\n",
    "plt.show();"
   ]
  },
  {
   "cell_type": "markdown",
   "id": "b7aa864a",
   "metadata": {},
   "source": [
    "### Relationship between 'score' and 'Sentiment'"
   ]
  },
  {
   "cell_type": "code",
   "execution_count": 14,
   "id": "d8316e34",
   "metadata": {},
   "outputs": [
    {
     "data": {
      "image/png": "[encoded data removed]",
      "text/plain": [
       "<Figure size 640x480 with 1 Axes>"
      ]
     },
     "metadata": {},
     "output_type": "display_data"
    }
   ],
   "source": [
    "sns.countplot(x=data_df['score'], hue=data_df['Sentiment'])\n",
    "plt.show();"
   ]
  },
  {
   "cell_type": "markdown",
   "id": "90d43277",
   "metadata": {},
   "source": [
    "### Length of Reviews of all records"
   ]
  },
  {
   "cell_type": "code",
   "execution_count": 15,
   "id": "ca2310af",
   "metadata": {},
   "outputs": [
    {
     "data": {
      "text/plain": [
       "0    481\n",
       "1    438\n",
       "2    382\n",
       "3    378\n",
       "4    366\n",
       "5    327\n",
       "6    441\n",
       "7    323\n",
       "8    344\n",
       "9    498\n",
       "Name: Length_of_Review, dtype: int64"
      ]
     },
     "execution_count": 15,
     "metadata": {},
     "output_type": "execute_result"
    }
   ],
   "source": [
    "data_df['Length_of_Review'] = data_df['review'].apply(lambda x: len(x))\n",
    "data_df['Length_of_Review'].head(10)"
   ]
  },
  {
   "cell_type": "code",
   "execution_count": 16,
   "id": "0dd980f3",
   "metadata": {},
   "outputs": [
    {
     "data": {
      "text/plain": [
       "count   1500.00\n",
       "mean      86.47\n",
       "std       55.68\n",
       "min       20.00\n",
       "25%       54.00\n",
       "50%       75.00\n",
       "75%      102.00\n",
       "max      498.00\n",
       "Name: Length_of_Review, dtype: float64"
      ]
     },
     "execution_count": 16,
     "metadata": {},
     "output_type": "execute_result"
    }
   ],
   "source": [
    "data_df['Length_of_Review'].describe()"
   ]
  },
  {
   "cell_type": "markdown",
   "id": "9bcfaa6a",
   "metadata": {},
   "source": [
    "### Distribution of Length of Reviews"
   ]
  },
  {
   "cell_type": "code",
   "execution_count": 17,
   "id": "a47712f3",
   "metadata": {},
   "outputs": [
    {
     "data": {
      "image/png": "[encoded data removed]",
      "text/plain": [
       "<Figure size 500x500 with 1 Axes>"
      ]
     },
     "metadata": {},
     "output_type": "display_data"
    }
   ],
   "source": [
    "sns.displot(data_df['Length_of_Review'])\n",
    "plt.show();"
   ]
  },
  {
   "cell_type": "markdown",
   "id": "8495b07a",
   "metadata": {},
   "source": [
    "### Distribution of Length of Reviews for Sentiment Type"
   ]
  },
  {
   "cell_type": "code",
   "execution_count": 18,
   "id": "c21a605e",
   "metadata": {},
   "outputs": [
    {
     "data": {
      "text/plain": [
       "<Figure size 2500x480 with 0 Axes>"
      ]
     },
     "metadata": {},
     "output_type": "display_data"
    },
    {
     "data": {
      "text/plain": [
       "<Figure size 640x200 with 0 Axes>"
      ]
     },
     "metadata": {},
     "output_type": "display_data"
    },
    {
     "data": {
      "image/png": "[encoded data removed]",
      "text/plain": [
       "<Figure size 612.5x500 with 1 Axes>"
      ]
     },
     "metadata": {},
     "output_type": "display_data"
    }
   ],
   "source": [
    "plt.figure().set_figwidth(25)\n",
    "plt.figure().set_figheight(2)\n",
    "sns.displot(data=data_df, x=data_df['Length_of_Review'], hue=data_df['Sentiment'], kind='kde', fill=True)\n",
    "plt.show();"
   ]
  },
  {
   "cell_type": "markdown",
   "id": "f91e185d",
   "metadata": {},
   "source": [
    "### Tokenization"
   ]
  },
  {
   "cell_type": "code",
   "execution_count": 19,
   "id": "03d5b24e",
   "metadata": {},
   "outputs": [
    {
     "data": {
      "text/html": [
       "<div>\n",
       "<style scoped>\n",
       "    .dataframe tbody tr th:only-of-type {\n",
       "        vertical-align: middle;\n",
       "    }\n",
       "\n",
       "    .dataframe tbody tr th {\n",
       "        vertical-align: top;\n",
       "    }\n",
       "\n",
       "    .dataframe thead th {\n",
       "        text-align: right;\n",
       "    }\n",
       "</style>\n",
       "<table border=\"1\" class=\"dataframe\">\n",
       "  <thead>\n",
       "    <tr style=\"text-align: right;\">\n",
       "      <th></th>\n",
       "      <th>review</th>\n",
       "      <th>Sentiment</th>\n",
       "    </tr>\n",
       "  </thead>\n",
       "  <tbody>\n",
       "    <tr>\n",
       "      <th>0</th>\n",
       "      <td>Overall it's really an amazing app. I've been using this for the past 5 years however I only have one issue though and I wanted this to get address since I think this issue had lasted for how many years? The texts were blurred and when you zoom it out it's pixelated. I thought this issue only occurs on mobile apps however it was also present on the website. Please fix this. I still remember the time when I can export high definition texts and I love that experience. Thank you!</td>\n",
       "      <td>Negative</td>\n",
       "    </tr>\n",
       "    <tr>\n",
       "      <th>1</th>\n",
       "      <td>Hey! Yes I gave a 5 star rating... coz I believe it deserves it! I mostly use the desktop version and I am seriously so satisfied with this app in both android and desktop version. I just came here to thank the developers for this beautiful app and its facilities. I literally find almost everything that I need for and the best part is even without the premium feature it provides us with a lot many facilities. I love it! Thank you..! ❤</td>\n",
       "      <td>Positive</td>\n",
       "    </tr>\n",
       "    <tr>\n",
       "      <th>2</th>\n",
       "      <td>Canva used to be a good app! But recently I've been facing issues in saving my files. When I want my files to be saved in '.png' format, it gets saved in .jpg format! Moreover when I want my files to be saved it gets stuck at the downloading screen (where your so called magic does not happen) For now you'll be getting 1 stars from me. I hope you will fix the app soon! Thank you .</td>\n",
       "      <td>Negative</td>\n",
       "    </tr>\n",
       "    <tr>\n",
       "      <th>3</th>\n",
       "      <td>It's a brilliant app, but I have just one problem, if I'm editing a post and I double tap the photo to reposition, if I then start to zoom the photo, 8 times out of 10 my app crashes and restarts, this is on my LG G5 SE, sometimes I've had to go over to the desktop version on my PC just to reposition and zoom the photo where I want it to then resume editing back on my mobile.</td>\n",
       "      <td>Negative</td>\n",
       "    </tr>\n",
       "    <tr>\n",
       "      <th>4</th>\n",
       "      <td>This was such a great app. I used to make BTS memes through this. But after recent update... I'm not able to change my font style. The edit option of font is missing. I tried uninstalling and installing the app, but still it's isn't working. The edit option for font is appearing very rarely. The previous version was far better. Canva could you please work on it! 💜</td>\n",
       "      <td>Negative</td>\n",
       "    </tr>\n",
       "  </tbody>\n",
       "</table>\n",
       "</div>"
      ],
      "text/plain": [
       "                                                                                                                                                                                                                                                                                                                                                                                                                                                                                              review Sentiment\n",
       "0  Overall it's really an amazing app. I've been using this for the past 5 years however I only have one issue though and I wanted this to get address since I think this issue had lasted for how many years? The texts were blurred and when you zoom it out it's pixelated. I thought this issue only occurs on mobile apps however it was also present on the website. Please fix this. I still remember the time when I can export high definition texts and I love that experience. Thank you!  Negative\n",
       "1                                             Hey! Yes I gave a 5 star rating... coz I believe it deserves it! I mostly use the desktop version and I am seriously so satisfied with this app in both android and desktop version. I just came here to thank the developers for this beautiful app and its facilities. I literally find almost everything that I need for and the best part is even without the premium feature it provides us with a lot many facilities. I love it! Thank you..! ❤  Positive\n",
       "2                                                                                                     Canva used to be a good app! But recently I've been facing issues in saving my files. When I want my files to be saved in '.png' format, it gets saved in .jpg format! Moreover when I want my files to be saved it gets stuck at the downloading screen (where your so called magic does not happen) For now you'll be getting 1 stars from me. I hope you will fix the app soon! Thank you .  Negative\n",
       "3                                                                                                         It's a brilliant app, but I have just one problem, if I'm editing a post and I double tap the photo to reposition, if I then start to zoom the photo, 8 times out of 10 my app crashes and restarts, this is on my LG G5 SE, sometimes I've had to go over to the desktop version on my PC just to reposition and zoom the photo where I want it to then resume editing back on my mobile.  Negative\n",
       "4                                                                                                                     This was such a great app. I used to make BTS memes through this. But after recent update... I'm not able to change my font style. The edit option of font is missing. I tried uninstalling and installing the app, but still it's isn't working. The edit option for font is appearing very rarely. The previous version was far better. Canva could you please work on it! 💜  Negative"
      ]
     },
     "execution_count": 19,
     "metadata": {},
     "output_type": "execute_result"
    }
   ],
   "source": [
    "tokenized_df = data_df[['review','Sentiment']]\n",
    "tokenized_df.head()"
   ]
  },
  {
   "cell_type": "code",
   "execution_count": 20,
   "id": "5d9437b0",
   "metadata": {},
   "outputs": [
    {
     "data": {
      "text/plain": [
       "\"Overall it's really an amazing app. I've been using this for the past 5 years however I only have one issue though and I wanted this to get address since I think this issue had lasted for how many years? The texts were blurred and when you zoom it out it's pixelated. I thought this issue only occurs on mobile apps however it was also present on the website. Please fix this. I still remember the time when I can export high definition texts and I love that experience. Thank you!\""
      ]
     },
     "execution_count": 20,
     "metadata": {},
     "output_type": "execute_result"
    }
   ],
   "source": [
    "tokenized_df.loc[0,'review']"
   ]
  },
  {
   "cell_type": "code",
   "execution_count": 21,
   "id": "e8831bdb",
   "metadata": {},
   "outputs": [
    {
     "data": {
      "text/plain": [
       "[\"Overall it's really an amazing app.\",\n",
       " \"I've been using this for the past 5 years however I only have one issue though and I wanted this to get address since I think this issue had lasted for how many years?\",\n",
       " \"The texts were blurred and when you zoom it out it's pixelated.\",\n",
       " 'I thought this issue only occurs on mobile apps however it was also present on the website.',\n",
       " 'Please fix this.',\n",
       " 'I still remember the time when I can export high definition texts and I love that experience.',\n",
       " 'Thank you!']"
      ]
     },
     "execution_count": 21,
     "metadata": {},
     "output_type": "execute_result"
    }
   ],
   "source": [
    "sent_tokenize(tokenized_df.loc[0,'review'])"
   ]
  },
  {
   "cell_type": "code",
   "execution_count": 22,
   "id": "fc03f898",
   "metadata": {},
   "outputs": [
    {
     "data": {
      "text/plain": [
       "['Overall',\n",
       " 'it',\n",
       " \"'s\",\n",
       " 'really',\n",
       " 'an',\n",
       " 'amazing',\n",
       " 'app',\n",
       " '.',\n",
       " 'I',\n",
       " \"'ve\",\n",
       " 'been',\n",
       " 'using',\n",
       " 'this',\n",
       " 'for',\n",
       " 'the',\n",
       " 'past',\n",
       " '5',\n",
       " 'years',\n",
       " 'however',\n",
       " 'I',\n",
       " 'only',\n",
       " 'have',\n",
       " 'one',\n",
       " 'issue',\n",
       " 'though',\n",
       " 'and',\n",
       " 'I',\n",
       " 'wanted',\n",
       " 'this',\n",
       " 'to',\n",
       " 'get',\n",
       " 'address',\n",
       " 'since',\n",
       " 'I',\n",
       " 'think',\n",
       " 'this',\n",
       " 'issue',\n",
       " 'had',\n",
       " 'lasted',\n",
       " 'for',\n",
       " 'how',\n",
       " 'many',\n",
       " 'years',\n",
       " '?',\n",
       " 'The',\n",
       " 'texts',\n",
       " 'were',\n",
       " 'blurred',\n",
       " 'and',\n",
       " 'when',\n",
       " 'you',\n",
       " 'zoom',\n",
       " 'it',\n",
       " 'out',\n",
       " 'it',\n",
       " \"'s\",\n",
       " 'pixelated',\n",
       " '.',\n",
       " 'I',\n",
       " 'thought',\n",
       " 'this',\n",
       " 'issue',\n",
       " 'only',\n",
       " 'occurs',\n",
       " 'on',\n",
       " 'mobile',\n",
       " 'apps',\n",
       " 'however',\n",
       " 'it',\n",
       " 'was',\n",
       " 'also',\n",
       " 'present',\n",
       " 'on',\n",
       " 'the',\n",
       " 'website',\n",
       " '.',\n",
       " 'Please',\n",
       " 'fix',\n",
       " 'this',\n",
       " '.',\n",
       " 'I',\n",
       " 'still',\n",
       " 'remember',\n",
       " 'the',\n",
       " 'time',\n",
       " 'when',\n",
       " 'I',\n",
       " 'can',\n",
       " 'export',\n",
       " 'high',\n",
       " 'definition',\n",
       " 'texts',\n",
       " 'and',\n",
       " 'I',\n",
       " 'love',\n",
       " 'that',\n",
       " 'experience',\n",
       " '.',\n",
       " 'Thank',\n",
       " 'you',\n",
       " '!']"
      ]
     },
     "execution_count": 22,
     "metadata": {},
     "output_type": "execute_result"
    }
   ],
   "source": [
    "word_tokenize(tokenized_df.loc[0,'review'])"
   ]
  },
  {
   "cell_type": "markdown",
   "id": "09da49f3",
   "metadata": {},
   "source": [
    "### Convert texts to lower case"
   ]
  },
  {
   "cell_type": "code",
   "execution_count": 23,
   "id": "b678e75a",
   "metadata": {},
   "outputs": [
    {
     "data": {
      "text/html": [
       "<div>\n",
       "<style scoped>\n",
       "    .dataframe tbody tr th:only-of-type {\n",
       "        vertical-align: middle;\n",
       "    }\n",
       "\n",
       "    .dataframe tbody tr th {\n",
       "        vertical-align: top;\n",
       "    }\n",
       "\n",
       "    .dataframe thead th {\n",
       "        text-align: right;\n",
       "    }\n",
       "</style>\n",
       "<table border=\"1\" class=\"dataframe\">\n",
       "  <thead>\n",
       "    <tr style=\"text-align: right;\">\n",
       "      <th></th>\n",
       "      <th>review</th>\n",
       "      <th>Sentiment</th>\n",
       "    </tr>\n",
       "  </thead>\n",
       "  <tbody>\n",
       "    <tr>\n",
       "      <th>0</th>\n",
       "      <td>overall it's really an amazing app. i've been using this for the past 5 years however i only have one issue though and i wanted this to get address since i think this issue had lasted for how many years? the texts were blurred and when you zoom it out it's pixelated. i thought this issue only occurs on mobile apps however it was also present on the website. please fix this. i still remember the time when i can export high definition texts and i love that experience. thank you!</td>\n",
       "      <td>Negative</td>\n",
       "    </tr>\n",
       "    <tr>\n",
       "      <th>1</th>\n",
       "      <td>hey! yes i gave a 5 star rating... coz i believe it deserves it! i mostly use the desktop version and i am seriously so satisfied with this app in both android and desktop version. i just came here to thank the developers for this beautiful app and its facilities. i literally find almost everything that i need for and the best part is even without the premium feature it provides us with a lot many facilities. i love it! thank you..! ❤</td>\n",
       "      <td>Positive</td>\n",
       "    </tr>\n",
       "  </tbody>\n",
       "</table>\n",
       "</div>"
      ],
      "text/plain": [
       "                                                                                                                                                                                                                                                                                                                                                                                                                                                                                              review Sentiment\n",
       "0  overall it's really an amazing app. i've been using this for the past 5 years however i only have one issue though and i wanted this to get address since i think this issue had lasted for how many years? the texts were blurred and when you zoom it out it's pixelated. i thought this issue only occurs on mobile apps however it was also present on the website. please fix this. i still remember the time when i can export high definition texts and i love that experience. thank you!  Negative\n",
       "1                                             hey! yes i gave a 5 star rating... coz i believe it deserves it! i mostly use the desktop version and i am seriously so satisfied with this app in both android and desktop version. i just came here to thank the developers for this beautiful app and its facilities. i literally find almost everything that i need for and the best part is even without the premium feature it provides us with a lot many facilities. i love it! thank you..! ❤  Positive"
      ]
     },
     "execution_count": 23,
     "metadata": {},
     "output_type": "execute_result"
    }
   ],
   "source": [
    "tokenized_df['review'] = tokenized_df['review'].apply(lambda x: ' '.join(x.lower() for x in x.split()))\n",
    "tokenized_df.head(2)"
   ]
  },
  {
   "cell_type": "markdown",
   "id": "5001c0f3",
   "metadata": {},
   "source": [
    "### Remving Stopwords from review"
   ]
  },
  {
   "cell_type": "code",
   "execution_count": 24,
   "id": "5e59d62b",
   "metadata": {},
   "outputs": [],
   "source": [
    "stop_words = stopwords.words('english')\n",
    "\n",
    "#Custom Stoplist\n",
    "custome_stopwords= [\"hey!\",\"it!\",\"you!\",\"i'm\",\"i\",\"i've\",\"me\",\"my\",\"myself\",\"we\",\"our\",\"ours\",\"ourselves\",\"you\",\"you're\",\"you've\",\"you'll\",\"you'd\",\"your\",\"yours\",\"yourself\",\"yourselves\",\"he\",\"him\",\"his\",\"himself\",\"she\",\n",
    "                  \"she's\",\"her\",\"hers\",\"herself\",\"it\",\"it's\",\"its\",\"itself\",\"they\",\"them\",\"their\",\"theirs\",\"themselves\",\n",
    "                  \"what\",\"which\",\"who\",\"whom\",\"this\",\"that\",\"that'll\",\"these\",\"those\",\"am\",\"is\",\"are\",\"was\",\"were\",\"be\",\"been\",\n",
    "                  \"being\",\"have\",\"has\",\"had\",\"having\",\"do\",\"does\",\"did\",\"doing\",\"a\",\"an\",\"the\",\"and\",\"but\",\"if\",\"or\",\"because\",\n",
    "                  \"as\",\"until\",\"while\",\"of\",\"at\",\"by\",\"for\",\"with\",\"about\",\"against\",\"between\",\"into\",\"through\",\"during\",\n",
    "                  \"before\",\"after\",\"above\",\"below\",\"to\",\"from\",\"up\",\"down\",\"in\",\"out\",\"on\",\"off\",\"over\",\"under\",\"again\",\n",
    "                  \"further\",\"then\",\"once\",\"here\",\"there\",\"when\",\"where\",\"why\",\"all\",\"any\",\"both\",\"each\",\"few\",\"more\",\"most\",\n",
    "                  \"other\",\"some\",\"such\",\"no\",\"nor\",\"not\",\"only\",\"own\",\"same\",\"so\",\"than\",\"too\",\"very\",\"s\",\"t\",\"can\",\"will\",\n",
    "                  \"just\",\"don\",\"don't\",\"should\",\"should've\",\"now\",\"d\",\"ll\",\"m\",\"o\",\"re\",\"ve\",\"y\",\"ain\",\n",
    "                  \"aren\",\"couldn\",\"didn\",\"doesn\",\"hadn\",\"hasn\",\"haven\",\"isn\",\"ma\",\"mightn\",\"mustn\",\"needn\",\"shan\",\"shan't\",\n",
    "                  \"shouldn\",\"wasn\",\"weren\",\"won\",\"rt\",\"rt\",\"qt\",\"for\",\"the\",\"with\",\"in\",\"of\",\"and\",\"its\",\"it\",\"this\",\"i\",\n",
    "                  \"have\",\"has\",\"would\",\"could\",\"you\",\"a\",\"an\",\"be\",\"am\",\"can\",\"will\",\"to\",\"on\",\"is\",\"by\",\"ive\",\n",
    "                  \"im\",\"your\",\"we\",\"are\",\"at\",\"as\",\"any\",\"ebay\",\"thank\",\"hello\",\"know\",\"need\",\"want\",\"look\",\"hi\",\"sorry\",\n",
    "                  \"http\", \"https\",\"body\",\"dear\",\"hello\",\"hi\",\"thanks\",\"sir\",\"tomorrow\",\"sent\",\"send\",\"see\",\"there\",\"welcome\",\n",
    "                  \"what\",\"well\",\"us\"]\n",
    "\n",
    "stop_words.extend(custome_stopwords)"
   ]
  },
  {
   "cell_type": "code",
   "execution_count": 25,
   "id": "25c1e9e7",
   "metadata": {},
   "outputs": [
    {
     "data": {
      "text/plain": [
       "0    overall really amazing app. using past 5 years however one issue though wanted get address since think issue lasted many years? texts blurred zoom pixelated. thought issue occurs mobile apps however also present website. please fix this. still remember time export high definition texts love experience.\n",
       "1                           yes gave 5 star rating... coz believe deserves mostly use desktop version seriously satisfied app android desktop version. came developers beautiful app facilities. literally find almost everything best part even without premium feature provides lot many facilities. love you..! ❤\n",
       "2                                                                               canva used good app! recently facing issues saving files. files saved '.png' format, gets saved .jpg format! moreover files saved gets stuck downloading screen (where called magic happen) getting 1 stars me. hope fix app soon! .\n",
       "3                                                                                               brilliant app, one problem, editing post double tap photo reposition, start zoom photo, 8 times 10 app crashes restarts, lg g5 se, sometimes go desktop version pc reposition zoom photo resume editing back mobile.\n",
       "4                                                                      great app. used make bts memes this. recent update... able change font style. edit option font missing. tried uninstalling installing app, still working. edit option font appearing rarely. previous version far better. canva please work 💜\n",
       "Name: CleanedReview, dtype: object"
      ]
     },
     "execution_count": 25,
     "metadata": {},
     "output_type": "execute_result"
    }
   ],
   "source": [
    "tokenized_df['CleanedReview'] = tokenized_df['review'].apply(lambda x: ' '.join(x for x in x.split() if x not in stop_words))\n",
    "tokenized_df['CleanedReview'].head(5)"
   ]
  },
  {
   "cell_type": "markdown",
   "id": "56c8afc3",
   "metadata": {},
   "source": [
    "### Removing Punctuations"
   ]
  },
  {
   "cell_type": "code",
   "execution_count": 26,
   "id": "2289001d",
   "metadata": {},
   "outputs": [],
   "source": [
    "# Function to preprocess the text\n",
    "def remove_punctuations(text):\n",
    "    \"\"\"\n",
    "        text: a string    \n",
    "        return: modified initial string\n",
    "    \"\"\"\n",
    "    # text = text.replace(\"\\d+\",\" \") #removing digits\n",
    "    text = re.sub(r\"(?:\\@|https?\\://)\\S+\",'',text) #removing mentions and urls\n",
    "    text = text.lower()\n",
    "    text = re.sub('[0-9]+','',text) #removing numeric characters\n",
    "    text = re.sub('[/(){}\\[\\]\\|@,;!]',' ',text) # replace symbols by space in text\n",
    "    text = re.sub('[^0-9a-z #+_]',' ',text) # replace symbols which are in BAD_SYMBOLS_RE from text\n",
    "    text = text.strip()\n",
    "    return text"
   ]
  },
  {
   "cell_type": "code",
   "execution_count": 27,
   "id": "8f561bb2",
   "metadata": {},
   "outputs": [
    {
     "data": {
      "text/plain": [
       "0    overall really amazing app  using past  years however one issue though wanted get address since think issue lasted many years  texts blurred zoom pixelated  thought issue occurs mobile apps however also present website  please fix this  still remember time export high definition texts love experience\n",
       "1                               yes gave  star rating    coz believe deserves mostly use desktop version seriously satisfied app android desktop version  came developers beautiful app facilities  literally find almost everything best part even without premium feature provides lot many facilities  love you\n",
       "2                                                                                 canva used good app  recently facing issues saving files  files saved   png  format  gets saved  jpg format  moreover files saved gets stuck downloading screen  where called magic happen  getting  stars me  hope fix app soon\n",
       "3                                                                                                  brilliant app  one problem  editing post double tap photo reposition  start zoom photo   times  app crashes restarts  lg g se  sometimes go desktop version pc reposition zoom photo resume editing back mobile\n",
       "4                                                                      great app  used make bts memes this  recent update    able change font style  edit option font missing  tried uninstalling installing app  still working  edit option font appearing rarely  previous version far better  canva please work\n",
       "Name: CleanedReview, dtype: object"
      ]
     },
     "execution_count": 27,
     "metadata": {},
     "output_type": "execute_result"
    }
   ],
   "source": [
    "import re\n",
    "tokenized_df['CleanedReview'] = tokenized_df['CleanedReview'].apply(lambda x: remove_punctuations(x))\n",
    "tokenized_df['CleanedReview'].head()"
   ]
  },
  {
   "cell_type": "markdown",
   "id": "479f675f",
   "metadata": {},
   "source": [
    "### Stemming Reviews"
   ]
  },
  {
   "cell_type": "markdown",
   "id": "0ed2a2e1",
   "metadata": {},
   "source": [
    "__Not a good approach to follow or use as it changes the words which distorts meaning__"
   ]
  },
  {
   "cell_type": "code",
   "execution_count": 28,
   "id": "f1a10625",
   "metadata": {
    "scrolled": false
   },
   "outputs": [
    {
     "data": {
      "text/plain": [
       "0       overal realli amaz app use past year howev one issu though want get address sinc think issu last mani year text blur zoom pixel thought issu occur mobil app howev also present websit pleas fix thi still rememb time export high definit text love experi\n",
       "1                           ye gave star rate coz believ deserv mostli use desktop version serious satisfi app android desktop version came develop beauti app facil liter find almost everyth best part even without premium featur provid lot mani facil love you\n",
       "2                                                                           canva use good app recent face issu save file file save png format get save jpg format moreov file save get stuck download screen where call magic happen get star me hope fix app soon\n",
       "3                                                                                brilliant app one problem edit post doubl tap photo reposit start zoom photo time app crash restart lg g se sometim go desktop version pc reposit zoom photo resum edit back mobil\n",
       "4                                                                great app use make bt meme thi recent updat abl chang font style edit option font miss tri uninstal instal app still work edit option font appear rare previou version far better canva pleas work\n",
       "                                                                                                                                   ...                                                                                                                             \n",
       "1495                                                                                                                                                                                                                                   absolut amaz lifesav teacher\n",
       "1496                                                                                                                                                                                                   nice mani time show error open ppt school project disturb me\n",
       "1497                                                                                                                                                                                                             much lag alway stuck start page worst app download\n",
       "1498                                                                                                                                                                                                     nice app colleg work mani featur templat work with love it\n",
       "1499                                                                                                                                                                                                                              teacher much school year love thi\n",
       "Name: CleanedReview, Length: 1500, dtype: object"
      ]
     },
     "execution_count": 28,
     "metadata": {},
     "output_type": "execute_result"
    }
   ],
   "source": [
    "from nltk.stem import PorterStemmer\n",
    "\n",
    "porter_stemmer = PorterStemmer()\n",
    "tokenized_df['CleanedReview'].apply(lambda x: ' '.join(porter_stemmer.stem(word) for word in x.split()))"
   ]
  },
  {
   "cell_type": "markdown",
   "id": "74701b10",
   "metadata": {},
   "source": [
    "### Stemming using LancasterStemmer"
   ]
  },
  {
   "cell_type": "markdown",
   "id": "bbd3b921",
   "metadata": {},
   "source": [
    "__It seems to be more accurate than PortStemmer__"
   ]
  },
  {
   "cell_type": "code",
   "execution_count": 29,
   "id": "a1654285",
   "metadata": {},
   "outputs": [
    {
     "data": {
      "text/plain": [
       "0       overal real amaz ap us past year howev on issu though want get address sint think issu last many year text blur zoom pixel thought issu occ mobl ap howev also pres websit pleas fix thi stil rememb tim export high definit text lov expery\n",
       "1                                       ye gav star rat coz believ deserv most us desktop vert sery satisfy ap android desktop vert cam develop beauty ap facil lit find almost everyth best part ev without prem feat provid lot many facil lov you\n",
       "2                                                                                       canv us good ap rec fac issu sav fil fil sav png form get sav jpg form moreov fil sav get stuck download screen wher cal mag hap get star me hop fix ap soon\n",
       "3                                                                              bril ap on problem edit post doubl tap photo reposit start zoom photo tim ap crash restart lg g se sometim go desktop vert pc reposit zoom photo resum edit back mobl\n",
       "4                                                                              gre ap us mak bts mem thi rec upd abl chang font styl edit opt font miss tri uninstal instal ap stil work edit opt font appear rar prevy vert far bet canv pleas work\n",
       "                                                                                                                            ...                                                                                                                     \n",
       "1495                                                                                                                                                                                                                       absolv amaz lifesav teach\n",
       "1496                                                                                                                                                                                           nic many tim show er op ppt school project disturb me\n",
       "1497                                                                                                                                                                                                much lag alway stuck start pag worst ap download\n",
       "1498                                                                                                                                                                                             nic ap colleg work many feat templ work with lov it\n",
       "1499                                                                                                                                                                                                                  teach much school year lov thi\n",
       "Name: CleanedReview, Length: 1500, dtype: object"
      ]
     },
     "execution_count": 29,
     "metadata": {},
     "output_type": "execute_result"
    }
   ],
   "source": [
    "from nltk.stem import LancasterStemmer\n",
    "\n",
    "lancaster_stemmer = LancasterStemmer()\n",
    "tokenized_df['CleanedReview'].apply(lambda x: ' '.join(lancaster_stemmer.stem(word) for word in x.split()))"
   ]
  },
  {
   "cell_type": "markdown",
   "id": "20f54992",
   "metadata": {},
   "source": [
    "### Stemming using WordnetLamentizer"
   ]
  },
  {
   "cell_type": "markdown",
   "id": "a9704a0c",
   "metadata": {},
   "source": [
    "__This is the best Stemming Library. It reduces most of the different forms of word to Root words.__"
   ]
  },
  {
   "cell_type": "code",
   "execution_count": 30,
   "id": "bff9fab2",
   "metadata": {},
   "outputs": [
    {
     "data": {
      "text/plain": [
       "0    overall really amazing app using past year however one issue though wanted get address since think issue lasted many year text blurred zoom pixelated thought issue occurs mobile apps however also present website please fix this still remember time export high definition text love experience\n",
       "1                                 yes gave star rating coz believe deserves mostly use desktop version seriously satisfied app android desktop version came developer beautiful app facility literally find almost everything best part even without premium feature provides lot many facility love you\n",
       "2                                                                                          canva used good app recently facing issue saving file file saved png format get saved jpg format moreover file saved get stuck downloading screen where called magic happen getting star me hope fix app soon\n",
       "3                                                                                                   brilliant app one problem editing post double tap photo reposition start zoom photo time app crash restarts lg g se sometimes go desktop version pc reposition zoom photo resume editing back mobile\n",
       "4                                                                        great app used make bts meme this recent update able change font style edit option font missing tried uninstalling installing app still working edit option font appearing rarely previous version far better canva please work\n",
       "Name: CleanedReview, dtype: object"
      ]
     },
     "execution_count": 30,
     "metadata": {},
     "output_type": "execute_result"
    }
   ],
   "source": [
    "from nltk.stem import WordNetLemmatizer\n",
    "\n",
    "wordnet = WordNetLemmatizer()\n",
    "tokenized_df['CleanedReview'] = tokenized_df['CleanedReview'].apply(lambda x: ' '.join(wordnet.lemmatize(word) for word in x.split()))\n",
    "tokenized_df['CleanedReview'].head(5)"
   ]
  },
  {
   "cell_type": "markdown",
   "id": "3dc6faf0",
   "metadata": {},
   "source": [
    "### Word Count of Reviews"
   ]
  },
  {
   "cell_type": "code",
   "execution_count": 31,
   "id": "c20f873e",
   "metadata": {},
   "outputs": [],
   "source": [
    "flat_tokens = [word for line in tokenized_df['CleanedReview'] for word in line.split()]"
   ]
  },
  {
   "cell_type": "code",
   "execution_count": 32,
   "id": "2c8e362d",
   "metadata": {},
   "outputs": [
    {
     "data": {
      "text/plain": [
       "13429"
      ]
     },
     "execution_count": 32,
     "metadata": {},
     "output_type": "execute_result"
    }
   ],
   "source": [
    "len(flat_tokens)"
   ]
  },
  {
   "cell_type": "code",
   "execution_count": 33,
   "id": "17af0bf6",
   "metadata": {},
   "outputs": [
    {
     "data": {
      "text/plain": [
       "['overall',\n",
       " 'really',\n",
       " 'amazing',\n",
       " 'app',\n",
       " 'using',\n",
       " 'past',\n",
       " 'year',\n",
       " 'however',\n",
       " 'one',\n",
       " 'issue']"
      ]
     },
     "execution_count": 33,
     "metadata": {},
     "output_type": "execute_result"
    }
   ],
   "source": [
    "flat_tokens[:10]"
   ]
  },
  {
   "cell_type": "code",
   "execution_count": 34,
   "id": "6832d861",
   "metadata": {},
   "outputs": [
    {
     "data": {
      "text/plain": [
       "1976"
      ]
     },
     "execution_count": 34,
     "metadata": {},
     "output_type": "execute_result"
    },
    {
     "data": {
      "text/plain": [
       "[('app', 904),\n",
       " ('use', 320),\n",
       " ('easy', 295),\n",
       " ('design', 268),\n",
       " ('good', 223),\n",
       " ('love', 197),\n",
       " ('great', 185),\n",
       " ('best', 165),\n",
       " ('canva', 162),\n",
       " ('really', 130),\n",
       " ('make', 127),\n",
       " ('free', 113),\n",
       " ('editing', 112),\n",
       " ('work', 112),\n",
       " ('it', 112),\n",
       " ('amazing', 111),\n",
       " ('time', 103),\n",
       " ('template', 103),\n",
       " ('nice', 102),\n",
       " ('like', 101)]"
      ]
     },
     "execution_count": 34,
     "metadata": {},
     "output_type": "execute_result"
    }
   ],
   "source": [
    "from collections import Counter\n",
    "\n",
    "counts = Counter(flat_tokens)\n",
    "len(counts)\n",
    "counts.most_common(20)"
   ]
  },
  {
   "cell_type": "markdown",
   "id": "719f3900",
   "metadata": {},
   "source": [
    "### Bag of Words - Binary. (2 gram)"
   ]
  },
  {
   "cell_type": "code",
   "execution_count": 35,
   "id": "d07d015b",
   "metadata": {},
   "outputs": [
    {
     "data": {
      "text/plain": [
       "'unable save work nothing work'"
      ]
     },
     "execution_count": 35,
     "metadata": {},
     "output_type": "execute_result"
    }
   ],
   "source": [
    "tokenized_df.loc[13,'CleanedReview']"
   ]
  },
  {
   "cell_type": "code",
   "execution_count": 36,
   "id": "e0aea2cf",
   "metadata": {},
   "outputs": [
    {
     "data": {
      "text/plain": [
       "(1500, 430)"
      ]
     },
     "execution_count": 36,
     "metadata": {},
     "output_type": "execute_result"
    }
   ],
   "source": [
    "count_vector = CountVectorizer(binary=True, min_df=5)\n",
    "X = count_vector.fit_transform(tokenized_df['CleanedReview'])\n",
    "X.shape"
   ]
  },
  {
   "cell_type": "code",
   "execution_count": 37,
   "id": "d9eccf66",
   "metadata": {},
   "outputs": [
    {
     "data": {
      "text/plain": [
       "430"
      ]
     },
     "execution_count": 37,
     "metadata": {},
     "output_type": "execute_result"
    }
   ],
   "source": [
    "len(count_vector.vocabulary_)"
   ]
  },
  {
   "cell_type": "code",
   "execution_count": 38,
   "id": "e97fc245",
   "metadata": {},
   "outputs": [
    {
     "data": {
      "text/plain": [
       "scipy.sparse._csr.csr_matrix"
      ]
     },
     "execution_count": 38,
     "metadata": {},
     "output_type": "execute_result"
    }
   ],
   "source": [
    "type(X) # This is Sparse Matrix. Need to convert to array to view the data"
   ]
  },
  {
   "cell_type": "code",
   "execution_count": 39,
   "id": "8a1d514e",
   "metadata": {},
   "outputs": [],
   "source": [
    "X_array = X.toarray()"
   ]
  },
  {
   "cell_type": "code",
   "execution_count": 40,
   "id": "63ba2a53",
   "metadata": {},
   "outputs": [
    {
     "data": {
      "text/plain": [
       "array([0, 0, 0, 0, 0, 0, 0, 0, 0, 0, 0, 0, 0, 0, 0, 0, 0, 0, 0, 0, 0, 0,\n",
       "       0, 0, 0, 0, 0, 0, 0, 0, 0, 0, 0, 0, 0, 0, 0, 0, 0, 0, 0, 0, 0, 0,\n",
       "       0, 0, 0, 0, 0, 0, 0, 0, 0, 0, 0, 0, 0, 0, 0, 0, 0, 0, 0, 0, 0, 0,\n",
       "       0, 0, 0, 0, 0, 0, 0, 0, 0, 0, 0, 0, 0, 0, 0, 0, 0, 0, 0, 0, 0, 0,\n",
       "       0, 0, 0, 0, 0, 0, 0, 0, 0, 0, 0, 0, 0, 0, 0, 0, 0, 0, 0, 0, 0, 0,\n",
       "       0, 0, 0, 0, 0, 0, 0, 0, 0, 0, 0, 0, 0, 0, 0, 0, 0, 0, 0, 0, 0, 0,\n",
       "       0, 0, 0, 0, 0, 0, 0, 0, 0, 0, 0, 0, 0, 0, 0, 0, 0, 0, 0, 0, 0, 0,\n",
       "       0, 0, 0, 0, 0, 0, 0, 0, 0, 0, 0, 0, 0, 0, 0, 0, 0, 0, 0, 0, 0, 0,\n",
       "       0, 0, 0, 0, 0, 0, 0, 0, 0, 0, 0, 0, 0, 0, 0, 0, 0, 0, 0, 0, 0, 0,\n",
       "       0, 0, 0, 0, 0, 0, 0, 0, 0, 0, 0, 0, 0, 0, 0, 0, 0, 0, 0, 0, 0, 0,\n",
       "       0, 0, 0, 0, 0, 0, 0, 0, 0, 0, 0, 0, 0, 0, 0, 0, 0, 0, 0, 0, 0, 0,\n",
       "       1, 0, 0, 0, 0, 0, 0, 0, 0, 0, 0, 0, 0, 0, 0, 0, 0, 0, 0, 0, 0, 0,\n",
       "       0, 0, 0, 0, 0, 0, 0, 0, 0, 0, 0, 0, 0, 0, 0, 0, 0, 0, 0, 0, 0, 0,\n",
       "       0, 0, 0, 0, 0, 0, 0, 0, 0, 0, 0, 0, 0, 0, 0, 0, 0, 0, 0, 0, 0, 1,\n",
       "       0, 0, 0, 0, 0, 0, 0, 0, 0, 0, 0, 0, 0, 0, 0, 0, 0, 0, 0, 0, 0, 0,\n",
       "       0, 0, 0, 0, 0, 0, 0, 0, 0, 0, 0, 0, 0, 0, 0, 0, 0, 0, 0, 0, 0, 0,\n",
       "       0, 0, 0, 0, 0, 0, 0, 0, 0, 0, 0, 0, 0, 0, 0, 0, 0, 0, 0, 0, 0, 0,\n",
       "       0, 0, 0, 0, 0, 0, 0, 0, 1, 0, 0, 0, 0, 0, 0, 0, 0, 0, 0, 0, 0, 0,\n",
       "       0, 0, 0, 0, 0, 0, 0, 0, 0, 0, 0, 0, 0, 0, 0, 0, 0, 0, 0, 0, 0, 0,\n",
       "       0, 1, 0, 0, 0, 0, 0, 0, 0, 0, 0, 0], dtype=int64)"
      ]
     },
     "execution_count": 40,
     "metadata": {},
     "output_type": "execute_result"
    }
   ],
   "source": [
    "X_array[13,:]"
   ]
  },
  {
   "cell_type": "code",
   "execution_count": 41,
   "id": "b33a3a34",
   "metadata": {},
   "outputs": [
    {
     "data": {
      "text/plain": [
       "'unable save work nothing work'"
      ]
     },
     "execution_count": 41,
     "metadata": {},
     "output_type": "execute_result"
    }
   ],
   "source": [
    "tokenized_df.loc[13,'CleanedReview']"
   ]
  },
  {
   "cell_type": "code",
   "execution_count": 42,
   "id": "9fa1527a",
   "metadata": {},
   "outputs": [
    {
     "data": {
      "text/plain": [
       "array(['aap', 'able', 'absolutely', 'access', 'account', 'ad', 'add',\n",
       "       'adding', 'again', 'all', 'almost', 'alot', 'already', 'also',\n",
       "       'always', 'amazing', 'and', 'android', 'animation', 'annoying',\n",
       "       'another', 'anyone', 'anything', 'app', 'application',\n",
       "       'appreciate', 'apps', 'art', 'attractive', 'auto', 'automatically',\n",
       "       'available', 'away', 'awesome', 'back', 'background', 'bad',\n",
       "       'banner', 'basic', 'beautiful', 'beginner', 'best', 'better',\n",
       "       'birthday', 'bit', 'brilliant', 'bug', 'business', 'but', 'can',\n",
       "       'cannot', 'cant', 'canva', 'canvas', 'card', 'change', 'channel',\n",
       "       'charged', 'check', 'choose', 'collage', 'come', 'company',\n",
       "       'complete', 'connection', 'content', 'convenient', 'cool', 'cover',\n",
       "       'crash', 'create', 'created', 'creating', 'creative', 'creativity',\n",
       "       'creator', 'daily', 'data', 'day', 'definitely', 'design',\n",
       "       'designed', 'designer', 'designing', 'desktop', 'developer',\n",
       "       'device', 'different', 'difficult', 'disappointed', 'done', 'dont',\n",
       "       'doubt', 'download', 'downloaded', 'downloading', 'due', 'easier',\n",
       "       'easily', 'easy', 'edit', 'editing', 'editor', 'edits',\n",
       "       'effective', 'email', 'end', 'enjoyed', 'enough', 'error',\n",
       "       'especially', 'etc', 'even', 'ever', 'every', 'everyone',\n",
       "       'everything', 'everytime', 'excellent', 'experience',\n",
       "       'experienced', 'facebook', 'facing', 'fantastic', 'far', 'fast',\n",
       "       'feature', 'feel', 'file', 'find', 'fine', 'first', 'fix', 'flyer',\n",
       "       'font', 'forever', 'found', 'free', 'friend', 'friendly',\n",
       "       'frustrating', 'full', 'fun', 'function', 'future', 'gallery',\n",
       "       'gave', 'get', 'getting', 'give', 'giving', 'glitch', 'go',\n",
       "       'going', 'good', 'google', 'got', 'graphic', 'great', 'guy',\n",
       "       'happy', 'hard', 'hate', 'help', 'helped', 'helpful', 'here',\n",
       "       'high', 'highly', 'hope', 'hour', 'however', 'idea', 'image',\n",
       "       'improve', 'in', 'incredible', 'insta', 'instagram', 'install',\n",
       "       'interesting', 'interface', 'internet', 'intuitive', 'issue', 'it',\n",
       "       'job', 'keep', 'kind', 'kindly', 'lag', 'lagging', 'laggy',\n",
       "       'laptop', 'last', 'le', 'learn', 'learning', 'let', 'life', 'like',\n",
       "       'liked', 'line', 'literally', 'little', 'll', 'load', 'loading',\n",
       "       'log', 'logo', 'long', 'looking', 'lot', 'love', 'loved', 'lovely',\n",
       "       'low', 'made', 'magic', 'make', 'making', 'many', 'marketing',\n",
       "       'may', 'me', 'medium', 'mind', 'minute', 'mobile', 'mode', 'money',\n",
       "       'month', 'more', 'much', 'must', 'navigate', 'need', 'needed',\n",
       "       'network', 'never', 'new', 'nice', 'nothing', 'now', 'offer',\n",
       "       'offline', 'one', 'online', 'open', 'opening', 'option', 'others',\n",
       "       'otherwise', 'out', 'overall', 'page', 'paid', 'paste', 'pay',\n",
       "       'paying', 'payment', 'people', 'perfect', 'perfectly', 'phone',\n",
       "       'photo', 'photoshop', 'pic', 'picture', 'place', 'platform',\n",
       "       'play', 'please', 'pls', 'plz', 'poor', 'post', 'poster',\n",
       "       'premium', 'presentation', 'pretty', 'price', 'print', 'pro',\n",
       "       'problem', 'product', 'professional', 'project', 'properly',\n",
       "       'provides', 'put', 'quality', 'quick', 'quite', 'rating', 'ready',\n",
       "       'really', 'recently', 'recommend', 'recommended', 'result',\n",
       "       'resume', 'review', 'right', 'run', 'said', 'satisfied', 'save',\n",
       "       'saved', 'saving', 'say', 'saying', 'school', 'screen', 'seem',\n",
       "       'seen', 'service', 'share', 'show', 'showing', 'sign', 'simple',\n",
       "       'simply', 'since', 'site', 'skill', 'slow', 'small', 'smooth',\n",
       "       'smoothly', 'so', 'social', 'software', 'solve', 'something',\n",
       "       'sometimes', 'soo', 'soon', 'specially', 'star', 'start',\n",
       "       'started', 'still', 'story', 'stuck', 'student', 'stuff',\n",
       "       'stunning', 'style', 'subscription', 'suck', 'super', 'superb',\n",
       "       'sure', 'tablet', 'take', 'taking', 'team', 'technical', 'tell',\n",
       "       'template', 'text', 'thanks', 'that', 'there', 'thing', 'think',\n",
       "       'this', 'though', 'thought', 'thumbnail', 'time', 'to', 'ton',\n",
       "       'too', 'tool', 'top', 'totally', 'tried', 'try', 'trying', 'type',\n",
       "       'unable', 'understand', 'uninstalled', 'up', 'update', 'updated',\n",
       "       'upgrade', 'use', 'used', 'useful', 'usefull', 'useless', 'user',\n",
       "       'using', 'variety', 'version', 'very', 'video', 'waiting', 'want',\n",
       "       'waste', 'watermark', 'way', 'web', 'website', 'well', 'went',\n",
       "       'what', 'whatever', 'why', 'wide', 'wifi', 'wish', 'with',\n",
       "       'without', 'wonderful', 'word', 'work', 'working', 'world',\n",
       "       'worst', 'worth', 'wow', 'wrong', 'year', 'yet', 'you', 'youtube'],\n",
       "      dtype=object)"
      ]
     },
     "execution_count": 42,
     "metadata": {},
     "output_type": "execute_result"
    }
   ],
   "source": [
    "count_vector.get_feature_names_out()"
   ]
  },
  {
   "cell_type": "code",
   "execution_count": 43,
   "id": "e5eaf6a8",
   "metadata": {},
   "outputs": [],
   "source": [
    "tokenized_df['Sentiment'] = tokenized_df['Sentiment'].apply(lambda x: 1 if x =='Positive' else 0)\n",
    "y = tokenized_df['Sentiment']"
   ]
  },
  {
   "cell_type": "code",
   "execution_count": 44,
   "id": "43acef36",
   "metadata": {},
   "outputs": [
    {
     "data": {
      "text/html": [
       "<div>\n",
       "<style scoped>\n",
       "    .dataframe tbody tr th:only-of-type {\n",
       "        vertical-align: middle;\n",
       "    }\n",
       "\n",
       "    .dataframe tbody tr th {\n",
       "        vertical-align: top;\n",
       "    }\n",
       "\n",
       "    .dataframe thead th {\n",
       "        text-align: right;\n",
       "    }\n",
       "</style>\n",
       "<table border=\"1\" class=\"dataframe\">\n",
       "  <thead>\n",
       "    <tr style=\"text-align: right;\">\n",
       "      <th></th>\n",
       "      <th>review</th>\n",
       "      <th>Sentiment</th>\n",
       "      <th>CleanedReview</th>\n",
       "    </tr>\n",
       "  </thead>\n",
       "  <tbody>\n",
       "    <tr>\n",
       "      <th>0</th>\n",
       "      <td>overall it's really an amazing app. i've been using this for the past 5 years however i only have one issue though and i wanted this to get address since i think this issue had lasted for how many years? the texts were blurred and when you zoom it out it's pixelated. i thought this issue only occurs on mobile apps however it was also present on the website. please fix this. i still remember the time when i can export high definition texts and i love that experience. thank you!</td>\n",
       "      <td>0</td>\n",
       "      <td>overall really amazing app using past year however one issue though wanted get address since think issue lasted many year text blurred zoom pixelated thought issue occurs mobile apps however also present website please fix this still remember time export high definition text love experience</td>\n",
       "    </tr>\n",
       "    <tr>\n",
       "      <th>1</th>\n",
       "      <td>hey! yes i gave a 5 star rating... coz i believe it deserves it! i mostly use the desktop version and i am seriously so satisfied with this app in both android and desktop version. i just came here to thank the developers for this beautiful app and its facilities. i literally find almost everything that i need for and the best part is even without the premium feature it provides us with a lot many facilities. i love it! thank you..! ❤</td>\n",
       "      <td>1</td>\n",
       "      <td>yes gave star rating coz believe deserves mostly use desktop version seriously satisfied app android desktop version came developer beautiful app facility literally find almost everything best part even without premium feature provides lot many facility love you</td>\n",
       "    </tr>\n",
       "    <tr>\n",
       "      <th>2</th>\n",
       "      <td>canva used to be a good app! but recently i've been facing issues in saving my files. when i want my files to be saved in '.png' format, it gets saved in .jpg format! moreover when i want my files to be saved it gets stuck at the downloading screen (where your so called magic does not happen) for now you'll be getting 1 stars from me. i hope you will fix the app soon! thank you .</td>\n",
       "      <td>0</td>\n",
       "      <td>canva used good app recently facing issue saving file file saved png format get saved jpg format moreover file saved get stuck downloading screen where called magic happen getting star me hope fix app soon</td>\n",
       "    </tr>\n",
       "  </tbody>\n",
       "</table>\n",
       "</div>"
      ],
      "text/plain": [
       "                                                                                                                                                                                                                                                                                                                                                                                                                                                                                              review  Sentiment                                                                                                                                                                                                                                                                                        CleanedReview\n",
       "0  overall it's really an amazing app. i've been using this for the past 5 years however i only have one issue though and i wanted this to get address since i think this issue had lasted for how many years? the texts were blurred and when you zoom it out it's pixelated. i thought this issue only occurs on mobile apps however it was also present on the website. please fix this. i still remember the time when i can export high definition texts and i love that experience. thank you!          0  overall really amazing app using past year however one issue though wanted get address since think issue lasted many year text blurred zoom pixelated thought issue occurs mobile apps however also present website please fix this still remember time export high definition text love experience\n",
       "1                                             hey! yes i gave a 5 star rating... coz i believe it deserves it! i mostly use the desktop version and i am seriously so satisfied with this app in both android and desktop version. i just came here to thank the developers for this beautiful app and its facilities. i literally find almost everything that i need for and the best part is even without the premium feature it provides us with a lot many facilities. i love it! thank you..! ❤          1                               yes gave star rating coz believe deserves mostly use desktop version seriously satisfied app android desktop version came developer beautiful app facility literally find almost everything best part even without premium feature provides lot many facility love you\n",
       "2                                                                                                     canva used to be a good app! but recently i've been facing issues in saving my files. when i want my files to be saved in '.png' format, it gets saved in .jpg format! moreover when i want my files to be saved it gets stuck at the downloading screen (where your so called magic does not happen) for now you'll be getting 1 stars from me. i hope you will fix the app soon! thank you .          0                                                                                        canva used good app recently facing issue saving file file saved png format get saved jpg format moreover file saved get stuck downloading screen where called magic happen getting star me hope fix app soon"
      ]
     },
     "execution_count": 44,
     "metadata": {},
     "output_type": "execute_result"
    }
   ],
   "source": [
    "tokenized_df.head(3)"
   ]
  },
  {
   "cell_type": "markdown",
   "id": "20a869c9",
   "metadata": {},
   "source": [
    "### Splitting the datasets into train and test data"
   ]
  },
  {
   "cell_type": "code",
   "execution_count": 45,
   "id": "85880968",
   "metadata": {},
   "outputs": [],
   "source": [
    "X_train, X_test, y_train, y_test = train_test_split(X, y, test_size=0.2,\n",
    "                                                   stratify=y, random_state=123)"
   ]
  },
  {
   "cell_type": "markdown",
   "id": "6024c26a",
   "metadata": {},
   "source": [
    "### Logistic Regression"
   ]
  },
  {
   "cell_type": "code",
   "execution_count": 46,
   "id": "b295d60b",
   "metadata": {},
   "outputs": [
    {
     "data": {
      "text/html": [
       "<style>#sk-container-id-1 {color: black;background-color: white;}#sk-container-id-1 pre{padding: 0;}#sk-container-id-1 div.sk-toggleable {background-color: white;}#sk-container-id-1 label.sk-toggleable__label {cursor: pointer;display: block;width: 100%;margin-bottom: 0;padding: 0.3em;box-sizing: border-box;text-align: center;}#sk-container-id-1 label.sk-toggleable__label-arrow:before {content: \"▸\";float: left;margin-right: 0.25em;color: #696969;}#sk-container-id-1 label.sk-toggleable__label-arrow:hover:before {color: black;}#sk-container-id-1 div.sk-estimator:hover label.sk-toggleable__label-arrow:before {color: black;}#sk-container-id-1 div.sk-toggleable__content {max-height: 0;max-width: 0;overflow: hidden;text-align: left;background-color: #f0f8ff;}#sk-container-id-1 div.sk-toggleable__content pre {margin: 0.2em;color: black;border-radius: 0.25em;background-color: #f0f8ff;}#sk-container-id-1 input.sk-toggleable__control:checked~div.sk-toggleable__content {max-height: 200px;max-width: 100%;overflow: auto;}#sk-container-id-1 input.sk-toggleable__control:checked~label.sk-toggleable__label-arrow:before {content: \"▾\";}#sk-container-id-1 div.sk-estimator input.sk-toggleable__control:checked~label.sk-toggleable__label {background-color: #d4ebff;}#sk-container-id-1 div.sk-label input.sk-toggleable__control:checked~label.sk-toggleable__label {background-color: #d4ebff;}#sk-container-id-1 input.sk-hidden--visually {border: 0;clip: rect(1px 1px 1px 1px);clip: rect(1px, 1px, 1px, 1px);height: 1px;margin: -1px;overflow: hidden;padding: 0;position: absolute;width: 1px;}#sk-container-id-1 div.sk-estimator {font-family: monospace;background-color: #f0f8ff;border: 1px dotted black;border-radius: 0.25em;box-sizing: border-box;margin-bottom: 0.5em;}#sk-container-id-1 div.sk-estimator:hover {background-color: #d4ebff;}#sk-container-id-1 div.sk-parallel-item::after {content: \"\";width: 100%;border-bottom: 1px solid gray;flex-grow: 1;}#sk-container-id-1 div.sk-label:hover label.sk-toggleable__label {background-color: #d4ebff;}#sk-container-id-1 div.sk-serial::before {content: \"\";position: absolute;border-left: 1px solid gray;box-sizing: border-box;top: 0;bottom: 0;left: 50%;z-index: 0;}#sk-container-id-1 div.sk-serial {display: flex;flex-direction: column;align-items: center;background-color: white;padding-right: 0.2em;padding-left: 0.2em;position: relative;}#sk-container-id-1 div.sk-item {position: relative;z-index: 1;}#sk-container-id-1 div.sk-parallel {display: flex;align-items: stretch;justify-content: center;background-color: white;position: relative;}#sk-container-id-1 div.sk-item::before, #sk-container-id-1 div.sk-parallel-item::before {content: \"\";position: absolute;border-left: 1px solid gray;box-sizing: border-box;top: 0;bottom: 0;left: 50%;z-index: -1;}#sk-container-id-1 div.sk-parallel-item {display: flex;flex-direction: column;z-index: 1;position: relative;background-color: white;}#sk-container-id-1 div.sk-parallel-item:first-child::after {align-self: flex-end;width: 50%;}#sk-container-id-1 div.sk-parallel-item:last-child::after {align-self: flex-start;width: 50%;}#sk-container-id-1 div.sk-parallel-item:only-child::after {width: 0;}#sk-container-id-1 div.sk-dashed-wrapped {border: 1px dashed gray;margin: 0 0.4em 0.5em 0.4em;box-sizing: border-box;padding-bottom: 0.4em;background-color: white;}#sk-container-id-1 div.sk-label label {font-family: monospace;font-weight: bold;display: inline-block;line-height: 1.2em;}#sk-container-id-1 div.sk-label-container {text-align: center;}#sk-container-id-1 div.sk-container {/* jupyter's `normalize.less` sets `[hidden] { display: none; }` but bootstrap.min.css set `[hidden] { display: none !important; }` so we also need the `!important` here to be able to override the default hidden behavior on the sphinx rendered scikit-learn.org. See: https://github.com/scikit-learn/scikit-learn/issues/21755 */display: inline-block !important;position: relative;}#sk-container-id-1 div.sk-text-repr-fallback {display: none;}</style><div id=\"sk-container-id-1\" class=\"sk-top-container\"><div class=\"sk-text-repr-fallback\"><pre>LogisticRegression()</pre><b>In a Jupyter environment, please rerun this cell to show the HTML representation or trust the notebook. <br />On GitHub, the HTML representation is unable to render, please try loading this page with nbviewer.org.</b></div><div class=\"sk-container\" hidden><div class=\"sk-item\"><div class=\"sk-estimator sk-toggleable\"><input class=\"sk-toggleable__control sk-hidden--visually\" id=\"sk-estimator-id-1\" type=\"checkbox\" checked><label for=\"sk-estimator-id-1\" class=\"sk-toggleable__label sk-toggleable__label-arrow\">LogisticRegression</label><div class=\"sk-toggleable__content\"><pre>LogisticRegression()</pre></div></div></div></div></div>"
      ],
      "text/plain": [
       "LogisticRegression()"
      ]
     },
     "execution_count": 46,
     "metadata": {},
     "output_type": "execute_result"
    }
   ],
   "source": [
    "lr_model_01 = LogisticRegression()\n",
    "lr_model_01.fit(X_train, y_train)"
   ]
  },
  {
   "cell_type": "code",
   "execution_count": 47,
   "id": "61fc5486",
   "metadata": {},
   "outputs": [
    {
     "name": "stdout",
     "output_type": "stream",
     "text": [
      "Score -0.9625\n",
      "Classification Report -\n",
      "              precision    recall  f1-score   support\n",
      "\n",
      "           0       0.98      0.90      0.94       374\n",
      "           1       0.96      0.99      0.97       826\n",
      "\n",
      "    accuracy                           0.96      1200\n",
      "   macro avg       0.97      0.94      0.96      1200\n",
      "weighted avg       0.96      0.96      0.96      1200\n",
      "\n",
      "Confusion Matrix -\n",
      "[[336  38]\n",
      " [  7 819]]\n"
     ]
    }
   ],
   "source": [
    "y_train_lr_predicted = lr_model_01.predict(X_train)\n",
    "print(f'Score -{metrics.accuracy_score(y_train, y_train_lr_predicted)}')\n",
    "print(f'Classification Report -\\n{metrics.classification_report(y_train, y_train_lr_predicted)}')\n",
    "print(f'Confusion Matrix -\\n{metrics.confusion_matrix(y_train, y_train_lr_predicted)}')"
   ]
  },
  {
   "cell_type": "code",
   "execution_count": 48,
   "id": "4f87b9bd",
   "metadata": {},
   "outputs": [
    {
     "name": "stdout",
     "output_type": "stream",
     "text": [
      "Score -0.9133333333333333\n",
      "Classification Report -\n",
      "              precision    recall  f1-score   support\n",
      "\n",
      "           0       0.90      0.82      0.86        94\n",
      "           1       0.92      0.96      0.94       206\n",
      "\n",
      "    accuracy                           0.91       300\n",
      "   macro avg       0.91      0.89      0.90       300\n",
      "weighted avg       0.91      0.91      0.91       300\n",
      "\n",
      "Confusion Matrix -\n",
      "[[ 77  17]\n",
      " [  9 197]]\n"
     ]
    }
   ],
   "source": [
    "y_test_lr_predicted = lr_model_01.predict(X_test)\n",
    "print(f'Score -{metrics.accuracy_score(y_test, y_test_lr_predicted)}')\n",
    "print(f'Classification Report -\\n{metrics.classification_report(y_test, y_test_lr_predicted)}')\n",
    "print(f'Confusion Matrix -\\n{metrics.confusion_matrix(y_test, y_test_lr_predicted)}')"
   ]
  },
  {
   "cell_type": "markdown",
   "id": "c54a5366",
   "metadata": {},
   "source": [
    "### Save both the vectorizer and the model"
   ]
  },
  {
   "cell_type": "code",
   "execution_count": 49,
   "id": "a49313bd",
   "metadata": {},
   "outputs": [],
   "source": [
    "with open(\"../output/binary_count_vector.pkl\", \"wb\") as f:\n",
    "    pickle.dump(count_vector, f)\n",
    "with open(\"../output/binary_count_vector_model.pkl\", \"wb\") as f:\n",
    "    pickle.dump(lr_model_01, f)"
   ]
  },
  {
   "cell_type": "markdown",
   "id": "23df60de",
   "metadata": {},
   "source": [
    "### Bag of Words - Non Binary"
   ]
  },
  {
   "cell_type": "code",
   "execution_count": 50,
   "id": "f9d0d479",
   "metadata": {},
   "outputs": [
    {
     "data": {
      "text/plain": [
       "'unable save work nothing work'"
      ]
     },
     "execution_count": 50,
     "metadata": {},
     "output_type": "execute_result"
    }
   ],
   "source": [
    "tokenized_df.loc[13,'CleanedReview']"
   ]
  },
  {
   "cell_type": "code",
   "execution_count": 51,
   "id": "b183090a",
   "metadata": {},
   "outputs": [
    {
     "data": {
      "text/plain": [
       "(1500, 430)"
      ]
     },
     "execution_count": 51,
     "metadata": {},
     "output_type": "execute_result"
    }
   ],
   "source": [
    "count_vector2 = CountVectorizer(min_df=5)\n",
    "X = count_vector2.fit_transform(tokenized_df['CleanedReview'])\n",
    "X.shape"
   ]
  },
  {
   "cell_type": "code",
   "execution_count": 52,
   "id": "a979843b",
   "metadata": {},
   "outputs": [
    {
     "data": {
      "text/plain": [
       "430"
      ]
     },
     "execution_count": 52,
     "metadata": {},
     "output_type": "execute_result"
    }
   ],
   "source": [
    "len(count_vector2.vocabulary_)"
   ]
  },
  {
   "cell_type": "code",
   "execution_count": 53,
   "id": "3eb47009",
   "metadata": {},
   "outputs": [
    {
     "data": {
      "text/plain": [
       "scipy.sparse._csr.csr_matrix"
      ]
     },
     "execution_count": 53,
     "metadata": {},
     "output_type": "execute_result"
    }
   ],
   "source": [
    "type(X) # This is Sparse Matrix. Need to convert to array to view the data"
   ]
  },
  {
   "cell_type": "code",
   "execution_count": 54,
   "id": "296c5903",
   "metadata": {},
   "outputs": [],
   "source": [
    "X_array = X.toarray()"
   ]
  },
  {
   "cell_type": "code",
   "execution_count": 55,
   "id": "57ef0b60",
   "metadata": {},
   "outputs": [
    {
     "data": {
      "text/plain": [
       "array([0, 0, 0, 0, 0, 0, 0, 0, 0, 0, 0, 0, 0, 0, 0, 0, 0, 0, 0, 0, 0, 0,\n",
       "       0, 0, 0, 0, 0, 0, 0, 0, 0, 0, 0, 0, 0, 0, 0, 0, 0, 0, 0, 0, 0, 0,\n",
       "       0, 0, 0, 0, 0, 0, 0, 0, 0, 0, 0, 0, 0, 0, 0, 0, 0, 0, 0, 0, 0, 0,\n",
       "       0, 0, 0, 0, 0, 0, 0, 0, 0, 0, 0, 0, 0, 0, 0, 0, 0, 0, 0, 0, 0, 0,\n",
       "       0, 0, 0, 0, 0, 0, 0, 0, 0, 0, 0, 0, 0, 0, 0, 0, 0, 0, 0, 0, 0, 0,\n",
       "       0, 0, 0, 0, 0, 0, 0, 0, 0, 0, 0, 0, 0, 0, 0, 0, 0, 0, 0, 0, 0, 0,\n",
       "       0, 0, 0, 0, 0, 0, 0, 0, 0, 0, 0, 0, 0, 0, 0, 0, 0, 0, 0, 0, 0, 0,\n",
       "       0, 0, 0, 0, 0, 0, 0, 0, 0, 0, 0, 0, 0, 0, 0, 0, 0, 0, 0, 0, 0, 0,\n",
       "       0, 0, 0, 0, 0, 0, 0, 0, 0, 0, 0, 0, 0, 0, 0, 0, 0, 0, 0, 0, 0, 0,\n",
       "       0, 0, 0, 0, 0, 0, 0, 0, 0, 0, 0, 0, 0, 0, 0, 0, 0, 0, 0, 0, 0, 0,\n",
       "       0, 0, 0, 0, 0, 0, 0, 0, 0, 0, 0, 0, 0, 0, 0, 0, 0, 0, 0, 0, 0, 0,\n",
       "       1, 0, 0, 0, 0, 0, 0, 0, 0, 0, 0, 0, 0, 0, 0, 0, 0, 0, 0, 0, 0, 0,\n",
       "       0, 0, 0, 0, 0, 0, 0, 0, 0, 0, 0, 0, 0, 0, 0, 0, 0, 0, 0, 0, 0, 0,\n",
       "       0, 0, 0, 0, 0, 0, 0, 0, 0, 0, 0, 0, 0, 0, 0, 0, 0, 0, 0, 0, 0, 1,\n",
       "       0, 0, 0, 0, 0, 0, 0, 0, 0, 0, 0, 0, 0, 0, 0, 0, 0, 0, 0, 0, 0, 0,\n",
       "       0, 0, 0, 0, 0, 0, 0, 0, 0, 0, 0, 0, 0, 0, 0, 0, 0, 0, 0, 0, 0, 0,\n",
       "       0, 0, 0, 0, 0, 0, 0, 0, 0, 0, 0, 0, 0, 0, 0, 0, 0, 0, 0, 0, 0, 0,\n",
       "       0, 0, 0, 0, 0, 0, 0, 0, 1, 0, 0, 0, 0, 0, 0, 0, 0, 0, 0, 0, 0, 0,\n",
       "       0, 0, 0, 0, 0, 0, 0, 0, 0, 0, 0, 0, 0, 0, 0, 0, 0, 0, 0, 0, 0, 0,\n",
       "       0, 2, 0, 0, 0, 0, 0, 0, 0, 0, 0, 0], dtype=int64)"
      ]
     },
     "execution_count": 55,
     "metadata": {},
     "output_type": "execute_result"
    }
   ],
   "source": [
    "X_array[13,:]"
   ]
  },
  {
   "cell_type": "code",
   "execution_count": 56,
   "id": "7473dc9b",
   "metadata": {},
   "outputs": [
    {
     "data": {
      "text/plain": [
       "'unable save work nothing work'"
      ]
     },
     "execution_count": 56,
     "metadata": {},
     "output_type": "execute_result"
    }
   ],
   "source": [
    "tokenized_df.loc[13,'CleanedReview']"
   ]
  },
  {
   "cell_type": "code",
   "execution_count": 57,
   "id": "a1faf9f1",
   "metadata": {},
   "outputs": [
    {
     "data": {
      "text/plain": [
       "array(['aap', 'able', 'absolutely', 'access', 'account', 'ad', 'add',\n",
       "       'adding', 'again', 'all', 'almost', 'alot', 'already', 'also',\n",
       "       'always', 'amazing', 'and', 'android', 'animation', 'annoying',\n",
       "       'another', 'anyone', 'anything', 'app', 'application',\n",
       "       'appreciate', 'apps', 'art', 'attractive', 'auto', 'automatically',\n",
       "       'available', 'away', 'awesome', 'back', 'background', 'bad',\n",
       "       'banner', 'basic', 'beautiful', 'beginner', 'best', 'better',\n",
       "       'birthday', 'bit', 'brilliant', 'bug', 'business', 'but', 'can',\n",
       "       'cannot', 'cant', 'canva', 'canvas', 'card', 'change', 'channel',\n",
       "       'charged', 'check', 'choose', 'collage', 'come', 'company',\n",
       "       'complete', 'connection', 'content', 'convenient', 'cool', 'cover',\n",
       "       'crash', 'create', 'created', 'creating', 'creative', 'creativity',\n",
       "       'creator', 'daily', 'data', 'day', 'definitely', 'design',\n",
       "       'designed', 'designer', 'designing', 'desktop', 'developer',\n",
       "       'device', 'different', 'difficult', 'disappointed', 'done', 'dont',\n",
       "       'doubt', 'download', 'downloaded', 'downloading', 'due', 'easier',\n",
       "       'easily', 'easy', 'edit', 'editing', 'editor', 'edits',\n",
       "       'effective', 'email', 'end', 'enjoyed', 'enough', 'error',\n",
       "       'especially', 'etc', 'even', 'ever', 'every', 'everyone',\n",
       "       'everything', 'everytime', 'excellent', 'experience',\n",
       "       'experienced', 'facebook', 'facing', 'fantastic', 'far', 'fast',\n",
       "       'feature', 'feel', 'file', 'find', 'fine', 'first', 'fix', 'flyer',\n",
       "       'font', 'forever', 'found', 'free', 'friend', 'friendly',\n",
       "       'frustrating', 'full', 'fun', 'function', 'future', 'gallery',\n",
       "       'gave', 'get', 'getting', 'give', 'giving', 'glitch', 'go',\n",
       "       'going', 'good', 'google', 'got', 'graphic', 'great', 'guy',\n",
       "       'happy', 'hard', 'hate', 'help', 'helped', 'helpful', 'here',\n",
       "       'high', 'highly', 'hope', 'hour', 'however', 'idea', 'image',\n",
       "       'improve', 'in', 'incredible', 'insta', 'instagram', 'install',\n",
       "       'interesting', 'interface', 'internet', 'intuitive', 'issue', 'it',\n",
       "       'job', 'keep', 'kind', 'kindly', 'lag', 'lagging', 'laggy',\n",
       "       'laptop', 'last', 'le', 'learn', 'learning', 'let', 'life', 'like',\n",
       "       'liked', 'line', 'literally', 'little', 'll', 'load', 'loading',\n",
       "       'log', 'logo', 'long', 'looking', 'lot', 'love', 'loved', 'lovely',\n",
       "       'low', 'made', 'magic', 'make', 'making', 'many', 'marketing',\n",
       "       'may', 'me', 'medium', 'mind', 'minute', 'mobile', 'mode', 'money',\n",
       "       'month', 'more', 'much', 'must', 'navigate', 'need', 'needed',\n",
       "       'network', 'never', 'new', 'nice', 'nothing', 'now', 'offer',\n",
       "       'offline', 'one', 'online', 'open', 'opening', 'option', 'others',\n",
       "       'otherwise', 'out', 'overall', 'page', 'paid', 'paste', 'pay',\n",
       "       'paying', 'payment', 'people', 'perfect', 'perfectly', 'phone',\n",
       "       'photo', 'photoshop', 'pic', 'picture', 'place', 'platform',\n",
       "       'play', 'please', 'pls', 'plz', 'poor', 'post', 'poster',\n",
       "       'premium', 'presentation', 'pretty', 'price', 'print', 'pro',\n",
       "       'problem', 'product', 'professional', 'project', 'properly',\n",
       "       'provides', 'put', 'quality', 'quick', 'quite', 'rating', 'ready',\n",
       "       'really', 'recently', 'recommend', 'recommended', 'result',\n",
       "       'resume', 'review', 'right', 'run', 'said', 'satisfied', 'save',\n",
       "       'saved', 'saving', 'say', 'saying', 'school', 'screen', 'seem',\n",
       "       'seen', 'service', 'share', 'show', 'showing', 'sign', 'simple',\n",
       "       'simply', 'since', 'site', 'skill', 'slow', 'small', 'smooth',\n",
       "       'smoothly', 'so', 'social', 'software', 'solve', 'something',\n",
       "       'sometimes', 'soo', 'soon', 'specially', 'star', 'start',\n",
       "       'started', 'still', 'story', 'stuck', 'student', 'stuff',\n",
       "       'stunning', 'style', 'subscription', 'suck', 'super', 'superb',\n",
       "       'sure', 'tablet', 'take', 'taking', 'team', 'technical', 'tell',\n",
       "       'template', 'text', 'thanks', 'that', 'there', 'thing', 'think',\n",
       "       'this', 'though', 'thought', 'thumbnail', 'time', 'to', 'ton',\n",
       "       'too', 'tool', 'top', 'totally', 'tried', 'try', 'trying', 'type',\n",
       "       'unable', 'understand', 'uninstalled', 'up', 'update', 'updated',\n",
       "       'upgrade', 'use', 'used', 'useful', 'usefull', 'useless', 'user',\n",
       "       'using', 'variety', 'version', 'very', 'video', 'waiting', 'want',\n",
       "       'waste', 'watermark', 'way', 'web', 'website', 'well', 'went',\n",
       "       'what', 'whatever', 'why', 'wide', 'wifi', 'wish', 'with',\n",
       "       'without', 'wonderful', 'word', 'work', 'working', 'world',\n",
       "       'worst', 'worth', 'wow', 'wrong', 'year', 'yet', 'you', 'youtube'],\n",
       "      dtype=object)"
      ]
     },
     "execution_count": 57,
     "metadata": {},
     "output_type": "execute_result"
    }
   ],
   "source": [
    "count_vector2.get_feature_names_out()"
   ]
  },
  {
   "cell_type": "code",
   "execution_count": 58,
   "id": "3aaaa126",
   "metadata": {},
   "outputs": [],
   "source": [
    "# tokenized_df['Sentiment'] = tokenized_df['Sentiment'].apply(lambda x: 1 if x =='Positive' else 0)\n",
    "# y = tokenized_df['Sentiment']"
   ]
  },
  {
   "cell_type": "code",
   "execution_count": 59,
   "id": "aa98c65f",
   "metadata": {},
   "outputs": [
    {
     "data": {
      "text/html": [
       "<div>\n",
       "<style scoped>\n",
       "    .dataframe tbody tr th:only-of-type {\n",
       "        vertical-align: middle;\n",
       "    }\n",
       "\n",
       "    .dataframe tbody tr th {\n",
       "        vertical-align: top;\n",
       "    }\n",
       "\n",
       "    .dataframe thead th {\n",
       "        text-align: right;\n",
       "    }\n",
       "</style>\n",
       "<table border=\"1\" class=\"dataframe\">\n",
       "  <thead>\n",
       "    <tr style=\"text-align: right;\">\n",
       "      <th></th>\n",
       "      <th>review</th>\n",
       "      <th>Sentiment</th>\n",
       "      <th>CleanedReview</th>\n",
       "    </tr>\n",
       "  </thead>\n",
       "  <tbody>\n",
       "    <tr>\n",
       "      <th>0</th>\n",
       "      <td>overall it's really an amazing app. i've been using this for the past 5 years however i only have one issue though and i wanted this to get address since i think this issue had lasted for how many years? the texts were blurred and when you zoom it out it's pixelated. i thought this issue only occurs on mobile apps however it was also present on the website. please fix this. i still remember the time when i can export high definition texts and i love that experience. thank you!</td>\n",
       "      <td>0</td>\n",
       "      <td>overall really amazing app using past year however one issue though wanted get address since think issue lasted many year text blurred zoom pixelated thought issue occurs mobile apps however also present website please fix this still remember time export high definition text love experience</td>\n",
       "    </tr>\n",
       "    <tr>\n",
       "      <th>1</th>\n",
       "      <td>hey! yes i gave a 5 star rating... coz i believe it deserves it! i mostly use the desktop version and i am seriously so satisfied with this app in both android and desktop version. i just came here to thank the developers for this beautiful app and its facilities. i literally find almost everything that i need for and the best part is even without the premium feature it provides us with a lot many facilities. i love it! thank you..! ❤</td>\n",
       "      <td>1</td>\n",
       "      <td>yes gave star rating coz believe deserves mostly use desktop version seriously satisfied app android desktop version came developer beautiful app facility literally find almost everything best part even without premium feature provides lot many facility love you</td>\n",
       "    </tr>\n",
       "    <tr>\n",
       "      <th>2</th>\n",
       "      <td>canva used to be a good app! but recently i've been facing issues in saving my files. when i want my files to be saved in '.png' format, it gets saved in .jpg format! moreover when i want my files to be saved it gets stuck at the downloading screen (where your so called magic does not happen) for now you'll be getting 1 stars from me. i hope you will fix the app soon! thank you .</td>\n",
       "      <td>0</td>\n",
       "      <td>canva used good app recently facing issue saving file file saved png format get saved jpg format moreover file saved get stuck downloading screen where called magic happen getting star me hope fix app soon</td>\n",
       "    </tr>\n",
       "  </tbody>\n",
       "</table>\n",
       "</div>"
      ],
      "text/plain": [
       "                                                                                                                                                                                                                                                                                                                                                                                                                                                                                              review  Sentiment                                                                                                                                                                                                                                                                                        CleanedReview\n",
       "0  overall it's really an amazing app. i've been using this for the past 5 years however i only have one issue though and i wanted this to get address since i think this issue had lasted for how many years? the texts were blurred and when you zoom it out it's pixelated. i thought this issue only occurs on mobile apps however it was also present on the website. please fix this. i still remember the time when i can export high definition texts and i love that experience. thank you!          0  overall really amazing app using past year however one issue though wanted get address since think issue lasted many year text blurred zoom pixelated thought issue occurs mobile apps however also present website please fix this still remember time export high definition text love experience\n",
       "1                                             hey! yes i gave a 5 star rating... coz i believe it deserves it! i mostly use the desktop version and i am seriously so satisfied with this app in both android and desktop version. i just came here to thank the developers for this beautiful app and its facilities. i literally find almost everything that i need for and the best part is even without the premium feature it provides us with a lot many facilities. i love it! thank you..! ❤          1                               yes gave star rating coz believe deserves mostly use desktop version seriously satisfied app android desktop version came developer beautiful app facility literally find almost everything best part even without premium feature provides lot many facility love you\n",
       "2                                                                                                     canva used to be a good app! but recently i've been facing issues in saving my files. when i want my files to be saved in '.png' format, it gets saved in .jpg format! moreover when i want my files to be saved it gets stuck at the downloading screen (where your so called magic does not happen) for now you'll be getting 1 stars from me. i hope you will fix the app soon! thank you .          0                                                                                        canva used good app recently facing issue saving file file saved png format get saved jpg format moreover file saved get stuck downloading screen where called magic happen getting star me hope fix app soon"
      ]
     },
     "execution_count": 59,
     "metadata": {},
     "output_type": "execute_result"
    }
   ],
   "source": [
    "tokenized_df.head(3)"
   ]
  },
  {
   "cell_type": "markdown",
   "id": "274c26ed",
   "metadata": {},
   "source": [
    "### Splitting the datasets into train and test data"
   ]
  },
  {
   "cell_type": "code",
   "execution_count": 60,
   "id": "86b73122",
   "metadata": {},
   "outputs": [],
   "source": [
    "X_train, X_test, y_train, y_test = train_test_split(X, y, test_size=0.2,\n",
    "                                                   stratify=y, random_state=123)"
   ]
  },
  {
   "cell_type": "markdown",
   "id": "be34e02e",
   "metadata": {},
   "source": [
    "### Logistic Regression"
   ]
  },
  {
   "cell_type": "code",
   "execution_count": 61,
   "id": "bc17b24c",
   "metadata": {},
   "outputs": [
    {
     "data": {
      "text/html": [
       "<style>#sk-container-id-2 {color: black;background-color: white;}#sk-container-id-2 pre{padding: 0;}#sk-container-id-2 div.sk-toggleable {background-color: white;}#sk-container-id-2 label.sk-toggleable__label {cursor: pointer;display: block;width: 100%;margin-bottom: 0;padding: 0.3em;box-sizing: border-box;text-align: center;}#sk-container-id-2 label.sk-toggleable__label-arrow:before {content: \"▸\";float: left;margin-right: 0.25em;color: #696969;}#sk-container-id-2 label.sk-toggleable__label-arrow:hover:before {color: black;}#sk-container-id-2 div.sk-estimator:hover label.sk-toggleable__label-arrow:before {color: black;}#sk-container-id-2 div.sk-toggleable__content {max-height: 0;max-width: 0;overflow: hidden;text-align: left;background-color: #f0f8ff;}#sk-container-id-2 div.sk-toggleable__content pre {margin: 0.2em;color: black;border-radius: 0.25em;background-color: #f0f8ff;}#sk-container-id-2 input.sk-toggleable__control:checked~div.sk-toggleable__content {max-height: 200px;max-width: 100%;overflow: auto;}#sk-container-id-2 input.sk-toggleable__control:checked~label.sk-toggleable__label-arrow:before {content: \"▾\";}#sk-container-id-2 div.sk-estimator input.sk-toggleable__control:checked~label.sk-toggleable__label {background-color: #d4ebff;}#sk-container-id-2 div.sk-label input.sk-toggleable__control:checked~label.sk-toggleable__label {background-color: #d4ebff;}#sk-container-id-2 input.sk-hidden--visually {border: 0;clip: rect(1px 1px 1px 1px);clip: rect(1px, 1px, 1px, 1px);height: 1px;margin: -1px;overflow: hidden;padding: 0;position: absolute;width: 1px;}#sk-container-id-2 div.sk-estimator {font-family: monospace;background-color: #f0f8ff;border: 1px dotted black;border-radius: 0.25em;box-sizing: border-box;margin-bottom: 0.5em;}#sk-container-id-2 div.sk-estimator:hover {background-color: #d4ebff;}#sk-container-id-2 div.sk-parallel-item::after {content: \"\";width: 100%;border-bottom: 1px solid gray;flex-grow: 1;}#sk-container-id-2 div.sk-label:hover label.sk-toggleable__label {background-color: #d4ebff;}#sk-container-id-2 div.sk-serial::before {content: \"\";position: absolute;border-left: 1px solid gray;box-sizing: border-box;top: 0;bottom: 0;left: 50%;z-index: 0;}#sk-container-id-2 div.sk-serial {display: flex;flex-direction: column;align-items: center;background-color: white;padding-right: 0.2em;padding-left: 0.2em;position: relative;}#sk-container-id-2 div.sk-item {position: relative;z-index: 1;}#sk-container-id-2 div.sk-parallel {display: flex;align-items: stretch;justify-content: center;background-color: white;position: relative;}#sk-container-id-2 div.sk-item::before, #sk-container-id-2 div.sk-parallel-item::before {content: \"\";position: absolute;border-left: 1px solid gray;box-sizing: border-box;top: 0;bottom: 0;left: 50%;z-index: -1;}#sk-container-id-2 div.sk-parallel-item {display: flex;flex-direction: column;z-index: 1;position: relative;background-color: white;}#sk-container-id-2 div.sk-parallel-item:first-child::after {align-self: flex-end;width: 50%;}#sk-container-id-2 div.sk-parallel-item:last-child::after {align-self: flex-start;width: 50%;}#sk-container-id-2 div.sk-parallel-item:only-child::after {width: 0;}#sk-container-id-2 div.sk-dashed-wrapped {border: 1px dashed gray;margin: 0 0.4em 0.5em 0.4em;box-sizing: border-box;padding-bottom: 0.4em;background-color: white;}#sk-container-id-2 div.sk-label label {font-family: monospace;font-weight: bold;display: inline-block;line-height: 1.2em;}#sk-container-id-2 div.sk-label-container {text-align: center;}#sk-container-id-2 div.sk-container {/* jupyter's `normalize.less` sets `[hidden] { display: none; }` but bootstrap.min.css set `[hidden] { display: none !important; }` so we also need the `!important` here to be able to override the default hidden behavior on the sphinx rendered scikit-learn.org. See: https://github.com/scikit-learn/scikit-learn/issues/21755 */display: inline-block !important;position: relative;}#sk-container-id-2 div.sk-text-repr-fallback {display: none;}</style><div id=\"sk-container-id-2\" class=\"sk-top-container\"><div class=\"sk-text-repr-fallback\"><pre>LogisticRegression()</pre><b>In a Jupyter environment, please rerun this cell to show the HTML representation or trust the notebook. <br />On GitHub, the HTML representation is unable to render, please try loading this page with nbviewer.org.</b></div><div class=\"sk-container\" hidden><div class=\"sk-item\"><div class=\"sk-estimator sk-toggleable\"><input class=\"sk-toggleable__control sk-hidden--visually\" id=\"sk-estimator-id-2\" type=\"checkbox\" checked><label for=\"sk-estimator-id-2\" class=\"sk-toggleable__label sk-toggleable__label-arrow\">LogisticRegression</label><div class=\"sk-toggleable__content\"><pre>LogisticRegression()</pre></div></div></div></div></div>"
      ],
      "text/plain": [
       "LogisticRegression()"
      ]
     },
     "execution_count": 61,
     "metadata": {},
     "output_type": "execute_result"
    }
   ],
   "source": [
    "lr_model_02 = LogisticRegression()\n",
    "lr_model_02.fit(X_train, y_train)"
   ]
  },
  {
   "cell_type": "code",
   "execution_count": 62,
   "id": "deacc004",
   "metadata": {},
   "outputs": [
    {
     "name": "stdout",
     "output_type": "stream",
     "text": [
      "Score -0.9616666666666667\n",
      "Classification Report -\n",
      "              precision    recall  f1-score   support\n",
      "\n",
      "           0       0.97      0.90      0.94       374\n",
      "           1       0.96      0.99      0.97       826\n",
      "\n",
      "    accuracy                           0.96      1200\n",
      "   macro avg       0.97      0.95      0.95      1200\n",
      "weighted avg       0.96      0.96      0.96      1200\n",
      "\n",
      "Confusion Matrix -\n",
      "[[337  37]\n",
      " [  9 817]]\n"
     ]
    }
   ],
   "source": [
    "y_train_lr_predicted = lr_model_02.predict(X_train)\n",
    "print(f'Score -{metrics.accuracy_score(y_train, y_train_lr_predicted)}')\n",
    "print(f'Classification Report -\\n{metrics.classification_report(y_train, y_train_lr_predicted)}')\n",
    "print(f'Confusion Matrix -\\n{metrics.confusion_matrix(y_train, y_train_lr_predicted)}')"
   ]
  },
  {
   "cell_type": "code",
   "execution_count": 63,
   "id": "53eb47b6",
   "metadata": {},
   "outputs": [
    {
     "name": "stdout",
     "output_type": "stream",
     "text": [
      "Score -0.91\n",
      "Classification Report -\n",
      "              precision    recall  f1-score   support\n",
      "\n",
      "           0       0.89      0.81      0.85        94\n",
      "           1       0.92      0.96      0.94       206\n",
      "\n",
      "    accuracy                           0.91       300\n",
      "   macro avg       0.91      0.88      0.89       300\n",
      "weighted avg       0.91      0.91      0.91       300\n",
      "\n",
      "Confusion Matrix -\n",
      "[[ 76  18]\n",
      " [  9 197]]\n"
     ]
    }
   ],
   "source": [
    "y_test_lr_predicted = lr_model_02.predict(X_test)\n",
    "print(f'Score -{metrics.accuracy_score(y_test, y_test_lr_predicted)}')\n",
    "print(f'Classification Report -\\n{metrics.classification_report(y_test, y_test_lr_predicted)}')\n",
    "print(f'Confusion Matrix -\\n{metrics.confusion_matrix(y_test, y_test_lr_predicted)}')"
   ]
  },
  {
   "cell_type": "markdown",
   "id": "2bab9da0",
   "metadata": {},
   "source": [
    "### Save both the vectorizer and the model"
   ]
  },
  {
   "cell_type": "code",
   "execution_count": 64,
   "id": "124062f8",
   "metadata": {},
   "outputs": [],
   "source": [
    "with open(\"../output/nonbinary_count_vector.pkl\", \"wb\") as f:\n",
    "    pickle.dump(count_vector2, f)\n",
    "with open(\"../output/nonbinary_count_vector_model.pkl\", \"wb\") as f:\n",
    "    pickle.dump(lr_model_02, f)"
   ]
  },
  {
   "cell_type": "markdown",
   "id": "5f98e905",
   "metadata": {},
   "source": [
    "### Bag of Words - ngram"
   ]
  },
  {
   "cell_type": "code",
   "execution_count": 65,
   "id": "338a6bc0",
   "metadata": {},
   "outputs": [
    {
     "data": {
      "text/plain": [
       "'unable save work nothing work'"
      ]
     },
     "execution_count": 65,
     "metadata": {},
     "output_type": "execute_result"
    }
   ],
   "source": [
    "tokenized_df.loc[13,'CleanedReview']"
   ]
  },
  {
   "cell_type": "code",
   "execution_count": 66,
   "id": "c579af77",
   "metadata": {},
   "outputs": [
    {
     "data": {
      "text/plain": [
       "(1500, 636)"
      ]
     },
     "execution_count": 66,
     "metadata": {},
     "output_type": "execute_result"
    }
   ],
   "source": [
    "count_vector3 = CountVectorizer(min_df=5, ngram_range=(1,3))\n",
    "X = count_vector3.fit_transform(tokenized_df['CleanedReview'])\n",
    "X.shape"
   ]
  },
  {
   "cell_type": "code",
   "execution_count": 67,
   "id": "a59c460c",
   "metadata": {},
   "outputs": [
    {
     "data": {
      "text/plain": [
       "636"
      ]
     },
     "execution_count": 67,
     "metadata": {},
     "output_type": "execute_result"
    }
   ],
   "source": [
    "len(count_vector3.vocabulary_)"
   ]
  },
  {
   "cell_type": "code",
   "execution_count": 68,
   "id": "453b92c9",
   "metadata": {},
   "outputs": [
    {
     "data": {
      "text/plain": [
       "scipy.sparse._csr.csr_matrix"
      ]
     },
     "execution_count": 68,
     "metadata": {},
     "output_type": "execute_result"
    }
   ],
   "source": [
    "type(X) # This is Sparse Matrix. Need to convert to array to view the data"
   ]
  },
  {
   "cell_type": "code",
   "execution_count": 69,
   "id": "7a5e0ff8",
   "metadata": {},
   "outputs": [],
   "source": [
    "X_array = X.toarray()"
   ]
  },
  {
   "cell_type": "code",
   "execution_count": 70,
   "id": "c84066c5",
   "metadata": {},
   "outputs": [
    {
     "data": {
      "text/plain": [
       "array([0, 0, 0, 0, 0, 0, 0, 0, 0, 0, 0, 0, 0, 0, 0, 0, 0, 0, 0, 0, 0, 0,\n",
       "       0, 0, 0, 0, 0, 0, 0, 0, 0, 0, 0, 0, 0, 0, 0, 0, 0, 0, 0, 0, 0, 0,\n",
       "       0, 0, 0, 0, 0, 0, 0, 0, 0, 0, 0, 0, 0, 0, 0, 0, 0, 0, 0, 0, 0, 0,\n",
       "       0, 0, 0, 0, 0, 0, 0, 0, 0, 0, 0, 0, 0, 0, 0, 0, 0, 0, 0, 0, 0, 0,\n",
       "       0, 0, 0, 0, 0, 0, 0, 0, 0, 0, 0, 0, 0, 0, 0, 0, 0, 0, 0, 0, 0, 0,\n",
       "       0, 0, 0, 0, 0, 0, 0, 0, 0, 0, 0, 0, 0, 0, 0, 0, 0, 0, 0, 0, 0, 0,\n",
       "       0, 0, 0, 0, 0, 0, 0, 0, 0, 0, 0, 0, 0, 0, 0, 0, 0, 0, 0, 0, 0, 0,\n",
       "       0, 0, 0, 0, 0, 0, 0, 0, 0, 0, 0, 0, 0, 0, 0, 0, 0, 0, 0, 0, 0, 0,\n",
       "       0, 0, 0, 0, 0, 0, 0, 0, 0, 0, 0, 0, 0, 0, 0, 0, 0, 0, 0, 0, 0, 0,\n",
       "       0, 0, 0, 0, 0, 0, 0, 0, 0, 0, 0, 0, 0, 0, 0, 0, 0, 0, 0, 0, 0, 0,\n",
       "       0, 0, 0, 0, 0, 0, 0, 0, 0, 0, 0, 0, 0, 0, 0, 0, 0, 0, 0, 0, 0, 0,\n",
       "       0, 0, 0, 0, 0, 0, 0, 0, 0, 0, 0, 0, 0, 0, 0, 0, 0, 0, 0, 0, 0, 0,\n",
       "       0, 0, 0, 0, 0, 0, 0, 0, 0, 0, 0, 0, 0, 0, 0, 0, 0, 0, 0, 0, 0, 0,\n",
       "       0, 0, 0, 0, 0, 0, 0, 0, 0, 0, 0, 0, 0, 0, 0, 0, 0, 0, 0, 0, 0, 0,\n",
       "       0, 0, 0, 0, 0, 0, 0, 0, 0, 0, 0, 0, 0, 0, 0, 0, 0, 0, 0, 0, 0, 0,\n",
       "       0, 0, 0, 0, 0, 0, 0, 0, 0, 0, 0, 0, 0, 0, 0, 0, 0, 0, 0, 0, 0, 0,\n",
       "       0, 0, 0, 0, 0, 0, 0, 0, 0, 0, 0, 0, 0, 0, 0, 0, 0, 0, 0, 0, 0, 0,\n",
       "       0, 0, 0, 0, 0, 0, 0, 0, 0, 0, 0, 0, 0, 0, 0, 0, 0, 0, 1, 0, 0, 0,\n",
       "       0, 0, 0, 0, 0, 0, 0, 0, 0, 0, 0, 0, 0, 0, 0, 0, 0, 0, 0, 0, 0, 0,\n",
       "       0, 0, 0, 0, 0, 0, 0, 0, 0, 0, 0, 0, 0, 0, 0, 0, 0, 0, 0, 0, 0, 0,\n",
       "       0, 0, 0, 0, 0, 0, 0, 0, 0, 0, 0, 0, 0, 0, 0, 0, 0, 0, 0, 0, 0, 0,\n",
       "       0, 0, 0, 0, 0, 0, 0, 0, 0, 0, 0, 0, 0, 0, 1, 0, 1, 0, 0, 0, 0, 0,\n",
       "       0, 0, 0, 0, 0, 0, 0, 0, 0, 0, 0, 0, 0, 0, 0, 0, 0, 0, 0, 0, 0, 0,\n",
       "       0, 0, 0, 0, 0, 0, 0, 0, 0, 0, 0, 0, 0, 0, 0, 0, 0, 0, 0, 0, 0, 0,\n",
       "       0, 0, 0, 0, 0, 0, 0, 0, 0, 0, 0, 0, 0, 0, 0, 0, 0, 0, 0, 0, 0, 0,\n",
       "       0, 0, 0, 0, 0, 0, 0, 0, 0, 0, 0, 0, 0, 0, 0, 0, 0, 0, 0, 1, 1, 0,\n",
       "       0, 0, 0, 0, 0, 0, 0, 0, 0, 0, 0, 0, 0, 0, 0, 0, 0, 0, 0, 0, 0, 0,\n",
       "       0, 0, 0, 0, 0, 0, 0, 0, 0, 0, 0, 0, 0, 0, 0, 0, 0, 0, 0, 0, 0, 0,\n",
       "       0, 0, 0, 0, 0, 0, 0, 2, 0, 0, 0, 0, 0, 0, 0, 0, 0, 0, 0, 0],\n",
       "      dtype=int64)"
      ]
     },
     "execution_count": 70,
     "metadata": {},
     "output_type": "execute_result"
    }
   ],
   "source": [
    "X_array[13,:]"
   ]
  },
  {
   "cell_type": "code",
   "execution_count": 71,
   "id": "9222797c",
   "metadata": {},
   "outputs": [
    {
     "data": {
      "text/plain": [
       "'unable save work nothing work'"
      ]
     },
     "execution_count": 71,
     "metadata": {},
     "output_type": "execute_result"
    }
   ],
   "source": [
    "tokenized_df.loc[13,'CleanedReview']"
   ]
  },
  {
   "cell_type": "code",
   "execution_count": 72,
   "id": "e161637d",
   "metadata": {
    "scrolled": false
   },
   "outputs": [
    {
     "data": {
      "text/plain": [
       "array(['aap', 'able', 'absolutely', 'absolutely love',\n",
       "       'absolutely love app', 'access', 'account', 'ad', 'add', 'adding',\n",
       "       'again', 'all', 'almost', 'alot', 'already', 'also', 'always',\n",
       "       'amazing', 'amazing app', 'amazing application', 'amazing design',\n",
       "       'and', 'android', 'animation', 'annoying', 'another', 'anyone',\n",
       "       'anything', 'app', 'app amazing', 'app awesome', 'app beginner',\n",
       "       'app best', 'app canva', 'app create', 'app creating',\n",
       "       'app design', 'app designing', 'app designing logo', 'app easy',\n",
       "       'app easy use', 'app edit', 'app editing', 'app ever',\n",
       "       'app ever used', 'app everything', 'app good', 'app graphic',\n",
       "       'app graphic design', 'app great', 'app help', 'app helpful',\n",
       "       'app it', 'app keep', 'app like', 'app logo', 'app lot',\n",
       "       'app love', 'app love it', 'app make', 'app making', 'app many',\n",
       "       'app much', 'app one', 'app really', 'app take', 'app use',\n",
       "       'app used', 'app useful', 'app work', 'app working', 'application',\n",
       "       'application editing', 'appreciate', 'apps', 'art', 'attractive',\n",
       "       'auto', 'automatically', 'available', 'away', 'awesome',\n",
       "       'awesome app', 'back', 'background', 'bad', 'banner', 'basic',\n",
       "       'beautiful', 'beginner', 'best', 'best app', 'best app ever',\n",
       "       'best apps', 'best editing', 'best graphic', 'best graphic design',\n",
       "       'best photo', 'better', 'birthday', 'bit', 'brilliant', 'bug',\n",
       "       'business', 'business card', 'but', 'can', 'can download',\n",
       "       'can save', 'cannot', 'cant', 'canva', 'canva app', 'canva best',\n",
       "       'canva best app', 'canva pro', 'canva team', 'canvas', 'card',\n",
       "       'change', 'channel', 'charged', 'check', 'choose', 'collage',\n",
       "       'come', 'company', 'complete', 'connection', 'content',\n",
       "       'convenient', 'cool', 'cool app', 'cover', 'crash', 'create',\n",
       "       'create design', 'created', 'creating', 'creative', 'creativity',\n",
       "       'creator', 'daily', 'data', 'day', 'definitely', 'design',\n",
       "       'design app', 'design easy', 'design template', 'designed',\n",
       "       'designer', 'designing', 'designing app', 'designing logo',\n",
       "       'desktop', 'desktop version', 'developer', 'device', 'different',\n",
       "       'difficult', 'disappointed', 'done', 'dont', 'doubt', 'download',\n",
       "       'download design', 'download video', 'downloaded', 'downloading',\n",
       "       'due', 'easier', 'easily', 'easy', 'easy create', 'easy design',\n",
       "       'easy edit', 'easy make', 'easy use', 'easy use great',\n",
       "       'easy use many', 'easy use really', 'edit', 'editing',\n",
       "       'editing app', 'editor', 'edits', 'effective', 'email', 'end',\n",
       "       'enjoyed', 'enough', 'error', 'especially', 'etc', 'even', 'ever',\n",
       "       'ever seen', 'ever used', 'every', 'everyone', 'everything',\n",
       "       'everytime', 'excellent', 'excellent app', 'experience',\n",
       "       'experienced', 'facebook', 'facing', 'fantastic', 'fantastic app',\n",
       "       'far', 'far good', 'fast', 'feature', 'feature free', 'feel',\n",
       "       'feel like', 'file', 'find', 'fine', 'first', 'first time', 'fix',\n",
       "       'fix it', 'fix this', 'flyer', 'font', 'forever', 'found', 'free',\n",
       "       'free option', 'free template', 'free version', 'friend',\n",
       "       'friendly', 'friendly app', 'frustrating', 'full', 'fun',\n",
       "       'function', 'future', 'gallery', 'gave', 'gave star', 'get',\n",
       "       'getting', 'give', 'give star', 'giving', 'glitch', 'go', 'going',\n",
       "       'good', 'good app', 'good application', 'good work', 'google',\n",
       "       'got', 'graphic', 'graphic design', 'graphic designer',\n",
       "       'graphic designing', 'great', 'great app', 'great app easy',\n",
       "       'great app love', 'great design', 'great easy', 'great job', 'guy',\n",
       "       'happy', 'hard', 'hate', 'help', 'help lot', 'help make', 'helped',\n",
       "       'helpful', 'helpful app', 'here', 'high', 'high quality', 'highly',\n",
       "       'highly recommended', 'hope', 'hour', 'however', 'idea', 'image',\n",
       "       'improve', 'in', 'incredible', 'insta', 'instagram',\n",
       "       'instagram post', 'install', 'interesting', 'interface',\n",
       "       'internet', 'internet connection', 'intuitive', 'issue', 'it',\n",
       "       'it easy', 'job', 'keep', 'keep good', 'keep good work', 'kind',\n",
       "       'kindly', 'lag', 'lagging', 'laggy', 'laptop', 'last', 'le',\n",
       "       'learn', 'learning', 'let', 'life', 'like', 'like app', 'like it',\n",
       "       'liked', 'line', 'literally', 'little', 'll', 'load', 'loading',\n",
       "       'log', 'logo', 'logo design', 'logo thumbnail', 'long',\n",
       "       'long time', 'looking', 'lot', 'lot feature', 'lot free',\n",
       "       'lot time', 'love', 'love app', 'love app easy', 'love canva',\n",
       "       'love easy', 'love it', 'loved', 'loved it', 'lovely', 'low',\n",
       "       'made', 'magic', 'make', 'make design', 'make easy', 'make logo',\n",
       "       'make poster', 'making', 'many', 'many design', 'many free',\n",
       "       'many option', 'many template', 'many thing', 'many time',\n",
       "       'marketing', 'may', 'me', 'medium', 'mind', 'minute', 'mobile',\n",
       "       'mode', 'money', 'month', 'more', 'much', 'much better',\n",
       "       'much time', 'must', 'navigate', 'need', 'needed', 'network',\n",
       "       'never', 'new', 'new update', 'nice', 'nice app', 'nice easy',\n",
       "       'nothing', 'now', 'offer', 'offline', 'one', 'one best',\n",
       "       'one best app', 'online', 'open', 'open app', 'opening', 'option',\n",
       "       'others', 'otherwise', 'out', 'overall', 'page', 'paid', 'paste',\n",
       "       'pay', 'paying', 'payment', 'people', 'perfect', 'perfectly',\n",
       "       'phone', 'photo', 'photo video', 'photoshop', 'pic', 'picture',\n",
       "       'place', 'platform', 'play', 'please', 'please fix',\n",
       "       'please fix it', 'pls', 'plz', 'poor', 'post', 'poster', 'premium',\n",
       "       'presentation', 'pretty', 'price', 'print', 'pro', 'pro version',\n",
       "       'problem', 'product', 'professional', 'project', 'properly',\n",
       "       'provides', 'put', 'quality', 'quick', 'quite', 'rating', 'ready',\n",
       "       'really', 'really amazing', 'really easy', 'really good',\n",
       "       'really good app', 'really great', 'really help', 'really helpful',\n",
       "       'really like', 'really like app', 'really love', 'really love app',\n",
       "       'recently', 'recommend', 'recommend app', 'recommended', 'result',\n",
       "       'resume', 'review', 'right', 'run', 'said', 'satisfied', 'save',\n",
       "       'save design', 'save work', 'saved', 'saving', 'say', 'saying',\n",
       "       'school', 'screen', 'seem', 'seen', 'service', 'share', 'show',\n",
       "       'showing', 'sign', 'simple', 'simple use', 'simply', 'since',\n",
       "       'site', 'skill', 'slow', 'small', 'small business', 'smooth',\n",
       "       'smoothly', 'so', 'social', 'social medium', 'software', 'solve',\n",
       "       'something', 'sometimes', 'soo', 'soon', 'specially', 'star',\n",
       "       'start', 'started', 'still', 'story', 'stuck', 'student', 'stuff',\n",
       "       'stunning', 'style', 'subscription', 'suck', 'super', 'super easy',\n",
       "       'super easy use', 'superb', 'superb app', 'sure', 'tablet', 'take',\n",
       "       'take long', 'take lot', 'take lot time', 'take much',\n",
       "       'take much time', 'take time', 'taking', 'team', 'technical',\n",
       "       'technical issue', 'tell', 'template', 'template design',\n",
       "       'template easy', 'text', 'thanks', 'that', 'there', 'thing',\n",
       "       'think', 'this', 'though', 'thought', 'thumbnail', 'time',\n",
       "       'time load', 'to', 'ton', 'too', 'tool', 'top', 'totally', 'tried',\n",
       "       'try', 'trying', 'type', 'unable', 'unable save', 'understand',\n",
       "       'uninstalled', 'up', 'update', 'updated', 'upgrade', 'use',\n",
       "       'use app', 'use canva', 'use free', 'use get', 'use great',\n",
       "       'use lot', 'use many', 'use really', 'use template', 'used',\n",
       "       'useful', 'useful app', 'usefull', 'useless', 'user',\n",
       "       'user friendly', 'user interface', 'using', 'using app',\n",
       "       'using canva', 'variety', 'version', 'very', 'video',\n",
       "       'video editing', 'waiting', 'want', 'waste', 'watermark', 'way',\n",
       "       'web', 'website', 'well', 'went', 'what', 'whatever', 'why',\n",
       "       'wide', 'wifi', 'wish', 'with', 'without', 'wonderful',\n",
       "       'wonderful app', 'word', 'work', 'working', 'world', 'worst',\n",
       "       'worst app', 'worth', 'wow', 'wrong', 'year', 'yet', 'you',\n",
       "       'youtube', 'youtube thumbnail'], dtype=object)"
      ]
     },
     "execution_count": 72,
     "metadata": {},
     "output_type": "execute_result"
    }
   ],
   "source": [
    "count_vector3.get_feature_names_out()"
   ]
  },
  {
   "cell_type": "code",
   "execution_count": 73,
   "id": "fc8d5b98",
   "metadata": {},
   "outputs": [],
   "source": [
    "# tokenized_df['Sentiment'] = tokenized_df['Sentiment'].apply(lambda x: 1 if x =='Positive' else 0)\n",
    "# y = tokenized_df['Sentiment']"
   ]
  },
  {
   "cell_type": "code",
   "execution_count": 74,
   "id": "c9f44f77",
   "metadata": {},
   "outputs": [
    {
     "data": {
      "text/html": [
       "<div>\n",
       "<style scoped>\n",
       "    .dataframe tbody tr th:only-of-type {\n",
       "        vertical-align: middle;\n",
       "    }\n",
       "\n",
       "    .dataframe tbody tr th {\n",
       "        vertical-align: top;\n",
       "    }\n",
       "\n",
       "    .dataframe thead th {\n",
       "        text-align: right;\n",
       "    }\n",
       "</style>\n",
       "<table border=\"1\" class=\"dataframe\">\n",
       "  <thead>\n",
       "    <tr style=\"text-align: right;\">\n",
       "      <th></th>\n",
       "      <th>review</th>\n",
       "      <th>Sentiment</th>\n",
       "      <th>CleanedReview</th>\n",
       "    </tr>\n",
       "  </thead>\n",
       "  <tbody>\n",
       "    <tr>\n",
       "      <th>0</th>\n",
       "      <td>overall it's really an amazing app. i've been using this for the past 5 years however i only have one issue though and i wanted this to get address since i think this issue had lasted for how many years? the texts were blurred and when you zoom it out it's pixelated. i thought this issue only occurs on mobile apps however it was also present on the website. please fix this. i still remember the time when i can export high definition texts and i love that experience. thank you!</td>\n",
       "      <td>0</td>\n",
       "      <td>overall really amazing app using past year however one issue though wanted get address since think issue lasted many year text blurred zoom pixelated thought issue occurs mobile apps however also present website please fix this still remember time export high definition text love experience</td>\n",
       "    </tr>\n",
       "    <tr>\n",
       "      <th>1</th>\n",
       "      <td>hey! yes i gave a 5 star rating... coz i believe it deserves it! i mostly use the desktop version and i am seriously so satisfied with this app in both android and desktop version. i just came here to thank the developers for this beautiful app and its facilities. i literally find almost everything that i need for and the best part is even without the premium feature it provides us with a lot many facilities. i love it! thank you..! ❤</td>\n",
       "      <td>1</td>\n",
       "      <td>yes gave star rating coz believe deserves mostly use desktop version seriously satisfied app android desktop version came developer beautiful app facility literally find almost everything best part even without premium feature provides lot many facility love you</td>\n",
       "    </tr>\n",
       "    <tr>\n",
       "      <th>2</th>\n",
       "      <td>canva used to be a good app! but recently i've been facing issues in saving my files. when i want my files to be saved in '.png' format, it gets saved in .jpg format! moreover when i want my files to be saved it gets stuck at the downloading screen (where your so called magic does not happen) for now you'll be getting 1 stars from me. i hope you will fix the app soon! thank you .</td>\n",
       "      <td>0</td>\n",
       "      <td>canva used good app recently facing issue saving file file saved png format get saved jpg format moreover file saved get stuck downloading screen where called magic happen getting star me hope fix app soon</td>\n",
       "    </tr>\n",
       "  </tbody>\n",
       "</table>\n",
       "</div>"
      ],
      "text/plain": [
       "                                                                                                                                                                                                                                                                                                                                                                                                                                                                                              review  Sentiment                                                                                                                                                                                                                                                                                        CleanedReview\n",
       "0  overall it's really an amazing app. i've been using this for the past 5 years however i only have one issue though and i wanted this to get address since i think this issue had lasted for how many years? the texts were blurred and when you zoom it out it's pixelated. i thought this issue only occurs on mobile apps however it was also present on the website. please fix this. i still remember the time when i can export high definition texts and i love that experience. thank you!          0  overall really amazing app using past year however one issue though wanted get address since think issue lasted many year text blurred zoom pixelated thought issue occurs mobile apps however also present website please fix this still remember time export high definition text love experience\n",
       "1                                             hey! yes i gave a 5 star rating... coz i believe it deserves it! i mostly use the desktop version and i am seriously so satisfied with this app in both android and desktop version. i just came here to thank the developers for this beautiful app and its facilities. i literally find almost everything that i need for and the best part is even without the premium feature it provides us with a lot many facilities. i love it! thank you..! ❤          1                               yes gave star rating coz believe deserves mostly use desktop version seriously satisfied app android desktop version came developer beautiful app facility literally find almost everything best part even without premium feature provides lot many facility love you\n",
       "2                                                                                                     canva used to be a good app! but recently i've been facing issues in saving my files. when i want my files to be saved in '.png' format, it gets saved in .jpg format! moreover when i want my files to be saved it gets stuck at the downloading screen (where your so called magic does not happen) for now you'll be getting 1 stars from me. i hope you will fix the app soon! thank you .          0                                                                                        canva used good app recently facing issue saving file file saved png format get saved jpg format moreover file saved get stuck downloading screen where called magic happen getting star me hope fix app soon"
      ]
     },
     "execution_count": 74,
     "metadata": {},
     "output_type": "execute_result"
    }
   ],
   "source": [
    "tokenized_df.head(3)"
   ]
  },
  {
   "cell_type": "markdown",
   "id": "dc472e9d",
   "metadata": {},
   "source": [
    "### Splitting the datasets into train and test data"
   ]
  },
  {
   "cell_type": "code",
   "execution_count": 75,
   "id": "0fa4a3d5",
   "metadata": {},
   "outputs": [],
   "source": [
    "X_train, X_test, y_train, y_test = train_test_split(X, y, test_size=0.2,\n",
    "                                                   stratify=y, random_state=123)"
   ]
  },
  {
   "cell_type": "markdown",
   "id": "f3dc4d29",
   "metadata": {},
   "source": [
    "### Logistic Regression"
   ]
  },
  {
   "cell_type": "code",
   "execution_count": 76,
   "id": "002f0e60",
   "metadata": {},
   "outputs": [
    {
     "data": {
      "text/html": [
       "<style>#sk-container-id-3 {color: black;background-color: white;}#sk-container-id-3 pre{padding: 0;}#sk-container-id-3 div.sk-toggleable {background-color: white;}#sk-container-id-3 label.sk-toggleable__label {cursor: pointer;display: block;width: 100%;margin-bottom: 0;padding: 0.3em;box-sizing: border-box;text-align: center;}#sk-container-id-3 label.sk-toggleable__label-arrow:before {content: \"▸\";float: left;margin-right: 0.25em;color: #696969;}#sk-container-id-3 label.sk-toggleable__label-arrow:hover:before {color: black;}#sk-container-id-3 div.sk-estimator:hover label.sk-toggleable__label-arrow:before {color: black;}#sk-container-id-3 div.sk-toggleable__content {max-height: 0;max-width: 0;overflow: hidden;text-align: left;background-color: #f0f8ff;}#sk-container-id-3 div.sk-toggleable__content pre {margin: 0.2em;color: black;border-radius: 0.25em;background-color: #f0f8ff;}#sk-container-id-3 input.sk-toggleable__control:checked~div.sk-toggleable__content {max-height: 200px;max-width: 100%;overflow: auto;}#sk-container-id-3 input.sk-toggleable__control:checked~label.sk-toggleable__label-arrow:before {content: \"▾\";}#sk-container-id-3 div.sk-estimator input.sk-toggleable__control:checked~label.sk-toggleable__label {background-color: #d4ebff;}#sk-container-id-3 div.sk-label input.sk-toggleable__control:checked~label.sk-toggleable__label {background-color: #d4ebff;}#sk-container-id-3 input.sk-hidden--visually {border: 0;clip: rect(1px 1px 1px 1px);clip: rect(1px, 1px, 1px, 1px);height: 1px;margin: -1px;overflow: hidden;padding: 0;position: absolute;width: 1px;}#sk-container-id-3 div.sk-estimator {font-family: monospace;background-color: #f0f8ff;border: 1px dotted black;border-radius: 0.25em;box-sizing: border-box;margin-bottom: 0.5em;}#sk-container-id-3 div.sk-estimator:hover {background-color: #d4ebff;}#sk-container-id-3 div.sk-parallel-item::after {content: \"\";width: 100%;border-bottom: 1px solid gray;flex-grow: 1;}#sk-container-id-3 div.sk-label:hover label.sk-toggleable__label {background-color: #d4ebff;}#sk-container-id-3 div.sk-serial::before {content: \"\";position: absolute;border-left: 1px solid gray;box-sizing: border-box;top: 0;bottom: 0;left: 50%;z-index: 0;}#sk-container-id-3 div.sk-serial {display: flex;flex-direction: column;align-items: center;background-color: white;padding-right: 0.2em;padding-left: 0.2em;position: relative;}#sk-container-id-3 div.sk-item {position: relative;z-index: 1;}#sk-container-id-3 div.sk-parallel {display: flex;align-items: stretch;justify-content: center;background-color: white;position: relative;}#sk-container-id-3 div.sk-item::before, #sk-container-id-3 div.sk-parallel-item::before {content: \"\";position: absolute;border-left: 1px solid gray;box-sizing: border-box;top: 0;bottom: 0;left: 50%;z-index: -1;}#sk-container-id-3 div.sk-parallel-item {display: flex;flex-direction: column;z-index: 1;position: relative;background-color: white;}#sk-container-id-3 div.sk-parallel-item:first-child::after {align-self: flex-end;width: 50%;}#sk-container-id-3 div.sk-parallel-item:last-child::after {align-self: flex-start;width: 50%;}#sk-container-id-3 div.sk-parallel-item:only-child::after {width: 0;}#sk-container-id-3 div.sk-dashed-wrapped {border: 1px dashed gray;margin: 0 0.4em 0.5em 0.4em;box-sizing: border-box;padding-bottom: 0.4em;background-color: white;}#sk-container-id-3 div.sk-label label {font-family: monospace;font-weight: bold;display: inline-block;line-height: 1.2em;}#sk-container-id-3 div.sk-label-container {text-align: center;}#sk-container-id-3 div.sk-container {/* jupyter's `normalize.less` sets `[hidden] { display: none; }` but bootstrap.min.css set `[hidden] { display: none !important; }` so we also need the `!important` here to be able to override the default hidden behavior on the sphinx rendered scikit-learn.org. See: https://github.com/scikit-learn/scikit-learn/issues/21755 */display: inline-block !important;position: relative;}#sk-container-id-3 div.sk-text-repr-fallback {display: none;}</style><div id=\"sk-container-id-3\" class=\"sk-top-container\"><div class=\"sk-text-repr-fallback\"><pre>LogisticRegression()</pre><b>In a Jupyter environment, please rerun this cell to show the HTML representation or trust the notebook. <br />On GitHub, the HTML representation is unable to render, please try loading this page with nbviewer.org.</b></div><div class=\"sk-container\" hidden><div class=\"sk-item\"><div class=\"sk-estimator sk-toggleable\"><input class=\"sk-toggleable__control sk-hidden--visually\" id=\"sk-estimator-id-3\" type=\"checkbox\" checked><label for=\"sk-estimator-id-3\" class=\"sk-toggleable__label sk-toggleable__label-arrow\">LogisticRegression</label><div class=\"sk-toggleable__content\"><pre>LogisticRegression()</pre></div></div></div></div></div>"
      ],
      "text/plain": [
       "LogisticRegression()"
      ]
     },
     "execution_count": 76,
     "metadata": {},
     "output_type": "execute_result"
    }
   ],
   "source": [
    "lr_model_03 = LogisticRegression()\n",
    "lr_model_03.fit(X_train, y_train)"
   ]
  },
  {
   "cell_type": "code",
   "execution_count": 77,
   "id": "0139666e",
   "metadata": {},
   "outputs": [
    {
     "name": "stdout",
     "output_type": "stream",
     "text": [
      "Score -0.9675\n",
      "Classification Report -\n",
      "              precision    recall  f1-score   support\n",
      "\n",
      "           0       0.98      0.91      0.95       374\n",
      "           1       0.96      0.99      0.98       826\n",
      "\n",
      "    accuracy                           0.97      1200\n",
      "   macro avg       0.97      0.95      0.96      1200\n",
      "weighted avg       0.97      0.97      0.97      1200\n",
      "\n",
      "Confusion Matrix -\n",
      "[[341  33]\n",
      " [  6 820]]\n"
     ]
    }
   ],
   "source": [
    "y_train_lr_predicted = lr_model_03.predict(X_train)\n",
    "print(f'Score -{metrics.accuracy_score(y_train, y_train_lr_predicted)}')\n",
    "print(f'Classification Report -\\n{metrics.classification_report(y_train, y_train_lr_predicted)}')\n",
    "print(f'Confusion Matrix -\\n{metrics.confusion_matrix(y_train, y_train_lr_predicted)}')"
   ]
  },
  {
   "cell_type": "code",
   "execution_count": 78,
   "id": "e79529f7",
   "metadata": {},
   "outputs": [
    {
     "name": "stdout",
     "output_type": "stream",
     "text": [
      "Score -0.9066666666666666\n",
      "Classification Report -\n",
      "              precision    recall  f1-score   support\n",
      "\n",
      "           0       0.88      0.82      0.85        94\n",
      "           1       0.92      0.95      0.93       206\n",
      "\n",
      "    accuracy                           0.91       300\n",
      "   macro avg       0.90      0.88      0.89       300\n",
      "weighted avg       0.91      0.91      0.91       300\n",
      "\n",
      "Confusion Matrix -\n",
      "[[ 77  17]\n",
      " [ 11 195]]\n"
     ]
    }
   ],
   "source": [
    "y_test_lr_predicted = lr_model_03.predict(X_test)\n",
    "print(f'Score -{metrics.accuracy_score(y_test, y_test_lr_predicted)}')\n",
    "print(f'Classification Report -\\n{metrics.classification_report(y_test, y_test_lr_predicted)}')\n",
    "print(f'Confusion Matrix -\\n{metrics.confusion_matrix(y_test, y_test_lr_predicted)}')"
   ]
  },
  {
   "cell_type": "markdown",
   "id": "db6b98d1",
   "metadata": {},
   "source": [
    "### Save both the vectorizer and the model"
   ]
  },
  {
   "cell_type": "code",
   "execution_count": 79,
   "id": "2e81b001",
   "metadata": {},
   "outputs": [],
   "source": [
    "with open(\"../output/ngram_count_vector.pkl\", \"wb\") as f:\n",
    "    pickle.dump(count_vector3, f)\n",
    "with open(\"../output/ngram_count_vector_model.pkl\", \"wb\") as f:\n",
    "    pickle.dump(lr_model_03, f)"
   ]
  },
  {
   "cell_type": "markdown",
   "id": "1ab6dbc7",
   "metadata": {},
   "source": [
    "### Using TF-IDF Vectroizer Models"
   ]
  },
  {
   "cell_type": "code",
   "execution_count": 80,
   "id": "8920eddb",
   "metadata": {},
   "outputs": [
    {
     "data": {
      "text/plain": [
       "(1500, 430)"
      ]
     },
     "execution_count": 80,
     "metadata": {},
     "output_type": "execute_result"
    }
   ],
   "source": [
    "tfidf_vector = TfidfVectorizer(min_df=5)\n",
    "X = tfidf_vector.fit_transform(tokenized_df['CleanedReview'])\n",
    "X.shape"
   ]
  },
  {
   "cell_type": "markdown",
   "id": "f7c7e17c",
   "metadata": {},
   "source": [
    "### Splitting the datasets into train and test data"
   ]
  },
  {
   "cell_type": "code",
   "execution_count": 81,
   "id": "d8e28efb",
   "metadata": {},
   "outputs": [],
   "source": [
    "X_train, X_test, y_train, y_test = train_test_split(X, y, test_size=0.2,\n",
    "                                                   stratify=y, random_state=123)"
   ]
  },
  {
   "cell_type": "markdown",
   "id": "7fb8d1ad",
   "metadata": {},
   "source": [
    "### Logistic Regression"
   ]
  },
  {
   "cell_type": "code",
   "execution_count": 82,
   "id": "13c762bc",
   "metadata": {},
   "outputs": [
    {
     "data": {
      "text/html": [
       "<style>#sk-container-id-4 {color: black;background-color: white;}#sk-container-id-4 pre{padding: 0;}#sk-container-id-4 div.sk-toggleable {background-color: white;}#sk-container-id-4 label.sk-toggleable__label {cursor: pointer;display: block;width: 100%;margin-bottom: 0;padding: 0.3em;box-sizing: border-box;text-align: center;}#sk-container-id-4 label.sk-toggleable__label-arrow:before {content: \"▸\";float: left;margin-right: 0.25em;color: #696969;}#sk-container-id-4 label.sk-toggleable__label-arrow:hover:before {color: black;}#sk-container-id-4 div.sk-estimator:hover label.sk-toggleable__label-arrow:before {color: black;}#sk-container-id-4 div.sk-toggleable__content {max-height: 0;max-width: 0;overflow: hidden;text-align: left;background-color: #f0f8ff;}#sk-container-id-4 div.sk-toggleable__content pre {margin: 0.2em;color: black;border-radius: 0.25em;background-color: #f0f8ff;}#sk-container-id-4 input.sk-toggleable__control:checked~div.sk-toggleable__content {max-height: 200px;max-width: 100%;overflow: auto;}#sk-container-id-4 input.sk-toggleable__control:checked~label.sk-toggleable__label-arrow:before {content: \"▾\";}#sk-container-id-4 div.sk-estimator input.sk-toggleable__control:checked~label.sk-toggleable__label {background-color: #d4ebff;}#sk-container-id-4 div.sk-label input.sk-toggleable__control:checked~label.sk-toggleable__label {background-color: #d4ebff;}#sk-container-id-4 input.sk-hidden--visually {border: 0;clip: rect(1px 1px 1px 1px);clip: rect(1px, 1px, 1px, 1px);height: 1px;margin: -1px;overflow: hidden;padding: 0;position: absolute;width: 1px;}#sk-container-id-4 div.sk-estimator {font-family: monospace;background-color: #f0f8ff;border: 1px dotted black;border-radius: 0.25em;box-sizing: border-box;margin-bottom: 0.5em;}#sk-container-id-4 div.sk-estimator:hover {background-color: #d4ebff;}#sk-container-id-4 div.sk-parallel-item::after {content: \"\";width: 100%;border-bottom: 1px solid gray;flex-grow: 1;}#sk-container-id-4 div.sk-label:hover label.sk-toggleable__label {background-color: #d4ebff;}#sk-container-id-4 div.sk-serial::before {content: \"\";position: absolute;border-left: 1px solid gray;box-sizing: border-box;top: 0;bottom: 0;left: 50%;z-index: 0;}#sk-container-id-4 div.sk-serial {display: flex;flex-direction: column;align-items: center;background-color: white;padding-right: 0.2em;padding-left: 0.2em;position: relative;}#sk-container-id-4 div.sk-item {position: relative;z-index: 1;}#sk-container-id-4 div.sk-parallel {display: flex;align-items: stretch;justify-content: center;background-color: white;position: relative;}#sk-container-id-4 div.sk-item::before, #sk-container-id-4 div.sk-parallel-item::before {content: \"\";position: absolute;border-left: 1px solid gray;box-sizing: border-box;top: 0;bottom: 0;left: 50%;z-index: -1;}#sk-container-id-4 div.sk-parallel-item {display: flex;flex-direction: column;z-index: 1;position: relative;background-color: white;}#sk-container-id-4 div.sk-parallel-item:first-child::after {align-self: flex-end;width: 50%;}#sk-container-id-4 div.sk-parallel-item:last-child::after {align-self: flex-start;width: 50%;}#sk-container-id-4 div.sk-parallel-item:only-child::after {width: 0;}#sk-container-id-4 div.sk-dashed-wrapped {border: 1px dashed gray;margin: 0 0.4em 0.5em 0.4em;box-sizing: border-box;padding-bottom: 0.4em;background-color: white;}#sk-container-id-4 div.sk-label label {font-family: monospace;font-weight: bold;display: inline-block;line-height: 1.2em;}#sk-container-id-4 div.sk-label-container {text-align: center;}#sk-container-id-4 div.sk-container {/* jupyter's `normalize.less` sets `[hidden] { display: none; }` but bootstrap.min.css set `[hidden] { display: none !important; }` so we also need the `!important` here to be able to override the default hidden behavior on the sphinx rendered scikit-learn.org. See: https://github.com/scikit-learn/scikit-learn/issues/21755 */display: inline-block !important;position: relative;}#sk-container-id-4 div.sk-text-repr-fallback {display: none;}</style><div id=\"sk-container-id-4\" class=\"sk-top-container\"><div class=\"sk-text-repr-fallback\"><pre>LogisticRegression()</pre><b>In a Jupyter environment, please rerun this cell to show the HTML representation or trust the notebook. <br />On GitHub, the HTML representation is unable to render, please try loading this page with nbviewer.org.</b></div><div class=\"sk-container\" hidden><div class=\"sk-item\"><div class=\"sk-estimator sk-toggleable\"><input class=\"sk-toggleable__control sk-hidden--visually\" id=\"sk-estimator-id-4\" type=\"checkbox\" checked><label for=\"sk-estimator-id-4\" class=\"sk-toggleable__label sk-toggleable__label-arrow\">LogisticRegression</label><div class=\"sk-toggleable__content\"><pre>LogisticRegression()</pre></div></div></div></div></div>"
      ],
      "text/plain": [
       "LogisticRegression()"
      ]
     },
     "execution_count": 82,
     "metadata": {},
     "output_type": "execute_result"
    }
   ],
   "source": [
    "lr_model_04 = LogisticRegression()\n",
    "lr_model_04.fit(X_train, y_train)"
   ]
  },
  {
   "cell_type": "code",
   "execution_count": 83,
   "id": "035d99b9",
   "metadata": {},
   "outputs": [
    {
     "name": "stdout",
     "output_type": "stream",
     "text": [
      "Score -0.9341666666666667\n",
      "Classification Report -\n",
      "              precision    recall  f1-score   support\n",
      "\n",
      "           0       0.97      0.81      0.89       374\n",
      "           1       0.92      0.99      0.95       826\n",
      "\n",
      "    accuracy                           0.93      1200\n",
      "   macro avg       0.95      0.90      0.92      1200\n",
      "weighted avg       0.94      0.93      0.93      1200\n",
      "\n",
      "Confusion Matrix -\n",
      "[[304  70]\n",
      " [  9 817]]\n"
     ]
    }
   ],
   "source": [
    "y_train_lr_predicted = lr_model_04.predict(X_train)\n",
    "print(f'Score -{metrics.accuracy_score(y_train, y_train_lr_predicted)}')\n",
    "print(f'Classification Report -\\n{metrics.classification_report(y_train, y_train_lr_predicted)}')\n",
    "print(f'Confusion Matrix -\\n{metrics.confusion_matrix(y_train, y_train_lr_predicted)}')"
   ]
  },
  {
   "cell_type": "code",
   "execution_count": 84,
   "id": "349f31d9",
   "metadata": {},
   "outputs": [
    {
     "name": "stdout",
     "output_type": "stream",
     "text": [
      "Score -0.89\n",
      "Classification Report -\n",
      "              precision    recall  f1-score   support\n",
      "\n",
      "           0       0.91      0.72      0.80        94\n",
      "           1       0.88      0.97      0.92       206\n",
      "\n",
      "    accuracy                           0.89       300\n",
      "   macro avg       0.90      0.84      0.86       300\n",
      "weighted avg       0.89      0.89      0.89       300\n",
      "\n",
      "Confusion Matrix -\n",
      "[[ 68  26]\n",
      " [  7 199]]\n"
     ]
    }
   ],
   "source": [
    "y_test_lr_predicted = lr_model_04.predict(X_test)\n",
    "print(f'Score -{metrics.accuracy_score(y_test, y_test_lr_predicted)}')\n",
    "print(f'Classification Report -\\n{metrics.classification_report(y_test, y_test_lr_predicted)}')\n",
    "print(f'Confusion Matrix -\\n{metrics.confusion_matrix(y_test, y_test_lr_predicted)}')"
   ]
  },
  {
   "cell_type": "markdown",
   "id": "bc6ae50f",
   "metadata": {},
   "source": [
    "### Save both the vectorizer and the model"
   ]
  },
  {
   "cell_type": "code",
   "execution_count": 85,
   "id": "6c4b2516",
   "metadata": {},
   "outputs": [],
   "source": [
    "with open(\"../output/tfidf_count_vector.pkl\", \"wb\") as f:\n",
    "    pickle.dump(tfidf_vector, f)\n",
    "with open(\"../output/tfidf_count_vector_model.pkl\", \"wb\") as f:\n",
    "    pickle.dump(lr_model_04, f)"
   ]
  },
  {
   "cell_type": "markdown",
   "id": "6a0899bc",
   "metadata": {},
   "source": [
    "## Predictions for new reviews"
   ]
  },
  {
   "cell_type": "code",
   "execution_count": 86,
   "id": "f3ff4a22",
   "metadata": {},
   "outputs": [],
   "source": [
    "# Sample test reviews\n",
    "test_review_1 = '''this is a truly amazing app , best for those who havw \n",
    "content but don't know how to express it in a good and shareable manner. \n",
    "Thanks Team Canva for such a great app.'''\n",
    "test_review_2 = '''Its the worst app ever I save my design but it does not save'''"
   ]
  },
  {
   "cell_type": "code",
   "execution_count": 87,
   "id": "800b8436",
   "metadata": {},
   "outputs": [],
   "source": [
    "test_review_1 = [test_review_1]\n",
    "test_review_2 = [test_review_2]"
   ]
  },
  {
   "cell_type": "code",
   "execution_count": 88,
   "id": "778d61e9",
   "metadata": {},
   "outputs": [],
   "source": [
    "test_df = pd.DataFrame(data=[test_review_1,test_review_2], columns=['review'])"
   ]
  },
  {
   "cell_type": "code",
   "execution_count": 89,
   "id": "47bac93b",
   "metadata": {},
   "outputs": [],
   "source": [
    "test_df['CleanedReview'] = test_df['review'].apply(lambda x: ' '.join(x.lower() for x in x.split()))\n",
    "test_df['CleanedReview'] = test_df['CleanedReview'].apply(lambda x: ' '.join(x for x in x.split() if x not in stop_words))\n",
    "test_df['CleanedReview'] = test_df['CleanedReview'].apply(lambda x: remove_punctuations(x))"
   ]
  },
  {
   "cell_type": "code",
   "execution_count": 90,
   "id": "e84f3f2f",
   "metadata": {
    "scrolled": false
   },
   "outputs": [],
   "source": [
    "stem = 'wordnet'\n",
    "if stem =='porter_stemmer':\n",
    "    porter_stemmer = PorterStemmer()\n",
    "    test_df['CleanedReview'] = test_df['CleanedReview'].apply(lambda x: ' '.join(porter_stemmer.stem(word) for word in x.split()))\n",
    "elif stem =='lancaster_stemmer':\n",
    "    lancaster_stemmer = LancasterStemmer()\n",
    "    test_df['CleanedReview'] = test_df['CleanedReview'].apply(lambda x: ' '.join(lancaster_stemmer.stem(word) for word in x.split()))\n",
    "elif stem =='wordnet':\n",
    "    wordnet = WordNetLemmatizer()\n",
    "    test_df['CleanedReview'] = test_df['CleanedReview'].apply(lambda x: ' '.join(wordnet.lemmatize(word) for word in x.split()))"
   ]
  },
  {
   "cell_type": "code",
   "execution_count": 92,
   "id": "86022e3e",
   "metadata": {},
   "outputs": [
    {
     "data": {
      "text/html": [
       "<div>\n",
       "<style scoped>\n",
       "    .dataframe tbody tr th:only-of-type {\n",
       "        vertical-align: middle;\n",
       "    }\n",
       "\n",
       "    .dataframe tbody tr th {\n",
       "        vertical-align: top;\n",
       "    }\n",
       "\n",
       "    .dataframe thead th {\n",
       "        text-align: right;\n",
       "    }\n",
       "</style>\n",
       "<table border=\"1\" class=\"dataframe\">\n",
       "  <thead>\n",
       "    <tr style=\"text-align: right;\">\n",
       "      <th></th>\n",
       "      <th>review</th>\n",
       "      <th>CleanedReview</th>\n",
       "    </tr>\n",
       "  </thead>\n",
       "  <tbody>\n",
       "    <tr>\n",
       "      <th>0</th>\n",
       "      <td>this is a truly amazing app , best for those who havw \\ncontent but don't know how to express it in a good and shareable manner. \\nThanks Team Canva for such a great app.</td>\n",
       "      <td>truly amazing app best havw content express good shareable manner team canva great app</td>\n",
       "    </tr>\n",
       "    <tr>\n",
       "      <th>1</th>\n",
       "      <td>Its the worst app ever I save my design but it does not save</td>\n",
       "      <td>worst app ever save design save</td>\n",
       "    </tr>\n",
       "  </tbody>\n",
       "</table>\n",
       "</div>"
      ],
      "text/plain": [
       "                                                                                                                                                                       review                                                                           CleanedReview\n",
       "0  this is a truly amazing app , best for those who havw \\ncontent but don't know how to express it in a good and shareable manner. \\nThanks Team Canva for such a great app.  truly amazing app best havw content express good shareable manner team canva great app\n",
       "1                                                                                                                Its the worst app ever I save my design but it does not save                                                         worst app ever save design save"
      ]
     },
     "execution_count": 92,
     "metadata": {},
     "output_type": "execute_result"
    }
   ],
   "source": [
    "test_df.head()"
   ]
  },
  {
   "cell_type": "code",
   "execution_count": 91,
   "id": "20018c55",
   "metadata": {},
   "outputs": [],
   "source": [
    "# vectorizor = 'binary_bag_of_words'\n",
    "# if vectorizor =='binary_bag_of_words':\n",
    "#     count_vector = CountVectorizer(binary=True, min_df=5)\n",
    "#     X = count_vector.fit_transform(test_df['CleanedReview'])\n",
    "#     X.shape\n",
    "# elif vectorizor =='bag_of_words':\n",
    "#     count_vector = CountVectorizer(min_df=5)\n",
    "#     X = count_vector.fit_transform(test_df['CleanedReview'])\n",
    "#     X.shape\n",
    "# elif vectorizor =='ngrams':\n",
    "#     count_vector3 = CountVectorizer(min_df=5, ngram_range=(1,3))\n",
    "#     X = count_vector3.fit_transform(test_df['CleanedReview'])\n",
    "#     X.shape\n",
    "# elif vectorizor =='tfidf':\n",
    "#     tfidf_vector = TfidfVectorizer(min_df=5)\n",
    "#     X = tfidf_vector.fit_transform(test_df['CleanedReview'])\n",
    "#     X.shape\n",
    "# else:\n",
    "#     print('Please use a valid Vectorizor')"
   ]
  },
  {
   "cell_type": "code",
   "execution_count": 93,
   "id": "96240161",
   "metadata": {},
   "outputs": [],
   "source": [
    "with open(\"../output/ngram_count_vector.pkl\", \"rb\") as f:\n",
    "    vectorizer = pickle.load(f)"
   ]
  },
  {
   "cell_type": "code",
   "execution_count": 96,
   "id": "e9452136",
   "metadata": {},
   "outputs": [
    {
     "data": {
      "text/plain": [
       "'truly amazing app best havw content express good shareable manner team canva great app'"
      ]
     },
     "execution_count": 96,
     "metadata": {},
     "output_type": "execute_result"
    }
   ],
   "source": [
    "test_df.loc[0,'CleanedReview']"
   ]
  },
  {
   "cell_type": "code",
   "execution_count": 98,
   "id": "da99612f",
   "metadata": {},
   "outputs": [],
   "source": [
    "X_test = vectorizer.transform(test_df['CleanedReview'])"
   ]
  },
  {
   "cell_type": "code",
   "execution_count": 99,
   "id": "b5eb469b",
   "metadata": {},
   "outputs": [
    {
     "data": {
      "text/plain": [
       "(2, 636)"
      ]
     },
     "execution_count": 99,
     "metadata": {},
     "output_type": "execute_result"
    }
   ],
   "source": [
    "X_test.shape"
   ]
  },
  {
   "cell_type": "code",
   "execution_count": 100,
   "id": "caef1c00",
   "metadata": {},
   "outputs": [],
   "source": [
    "with open(\"../output/ngram_count_vector_model.pkl\", \"rb\") as f:\n",
    "    loaded_model= pickle.load(f)"
   ]
  },
  {
   "cell_type": "code",
   "execution_count": 101,
   "id": "fe886c26",
   "metadata": {},
   "outputs": [
    {
     "data": {
      "text/plain": [
       "array([[0.00224733, 0.99775267],\n",
       "       [0.97730513, 0.02269487]])"
      ]
     },
     "execution_count": 101,
     "metadata": {},
     "output_type": "execute_result"
    }
   ],
   "source": [
    "loaded_model.predict_proba(X_test)"
   ]
  },
  {
   "cell_type": "code",
   "execution_count": 102,
   "id": "28cd2f58",
   "metadata": {},
   "outputs": [
    {
     "data": {
      "text/plain": [
       "array([1, 0], dtype=int64)"
      ]
     },
     "execution_count": 102,
     "metadata": {},
     "output_type": "execute_result"
    }
   ],
   "source": [
    "loaded_model.predict(X_test)"
   ]
  }
 ],
 "metadata": {
  "kernelspec": {
   "display_name": "Python 3 (ipykernel)",
   "language": "python",
   "name": "python3"
  },
  "language_info": {
   "codemirror_mode": {
    "name": "ipython",
    "version": 3
   },
   "file_extension": ".py",
   "mimetype": "text/x-python",
   "name": "python",
   "nbconvert_exporter": "python",
   "pygments_lexer": "ipython3",
   "version": "3.10.9"
  }
 },
 "nbformat": 4,
 "nbformat_minor": 5
}
